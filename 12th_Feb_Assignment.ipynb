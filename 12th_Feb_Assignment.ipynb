{
  "nbformat": 4,
  "nbformat_minor": 0,
  "metadata": {
    "colab": {
      "provenance": []
    },
    "kernelspec": {
      "name": "python3",
      "display_name": "Python 3"
    },
    "language_info": {
      "name": "python"
    }
  },
  "cells": [
    {
      "cell_type": "markdown",
      "source": [
        "**Q1.what is an exception in python ? what is difference between exception and syntax errors?**\n",
        "\n",
        "In Python, an exception is an error that occurs during the execution of a program. When a Python script encounters an error, it raises an exception, which interrupts the normal flow of execution and jumps to the nearest exception handler that can handle that exception.\n",
        "\n",
        "Syntax errors, on the other hand, are errors that occur when the Python interpreter cannot understand the code due to a violation of the language syntax rules. These errors prevent the program from running at all, and they are detected by the Python interpreter at compile-time.\n",
        "\n",
        "The main difference between exceptions and syntax errors is that exceptions are runtime errors that occur during the execution of the program, while syntax errors are detected by the Python interpreter before the program even starts running. In other words, syntax errors are detected during the compilation of the code, while exceptions occur during the execution of the code.\n",
        "\n",
        "\n"
      ],
      "metadata": {
        "id": "v1PTu3JmO5e5"
      }
    },
    {
      "cell_type": "markdown",
      "source": [
        "**Q2.What happens when an exception is not handles? Explain with an example?**\n",
        "\n",
        "-->When an exception is not handled in Python, it results in an error message being displayed, and the program terminates abruptly. This means that any remaining code that was supposed to be executed after the exception occurred will not run."
      ],
      "metadata": {
        "id": "QVI80ODFP3LK"
      }
    },
    {
      "cell_type": "code",
      "execution_count": 1,
      "metadata": {
        "colab": {
          "base_uri": "https://localhost:8080/",
          "height": 207
        },
        "id": "I457lVQHLfHU",
        "outputId": "c868a5d1-839a-4c41-fde2-b9d65f68eabe"
      },
      "outputs": [
        {
          "output_type": "error",
          "ename": "ZeroDivisionError",
          "evalue": "ignored",
          "traceback": [
            "\u001b[0;31m---------------------------------------------------------------------------\u001b[0m",
            "\u001b[0;31mZeroDivisionError\u001b[0m                         Traceback (most recent call last)",
            "\u001b[0;32m<ipython-input-1-7b2e6424c2cb>\u001b[0m in \u001b[0;36m<cell line: 3>\u001b[0;34m()\u001b[0m\n\u001b[1;32m      1\u001b[0m \u001b[0ma\u001b[0m\u001b[0;34m=\u001b[0m\u001b[0;36m0\u001b[0m\u001b[0;34m\u001b[0m\u001b[0;34m\u001b[0m\u001b[0m\n\u001b[1;32m      2\u001b[0m \u001b[0mb\u001b[0m\u001b[0;34m=\u001b[0m\u001b[0;36m1\u001b[0m\u001b[0;34m\u001b[0m\u001b[0;34m\u001b[0m\u001b[0m\n\u001b[0;32m----> 3\u001b[0;31m \u001b[0mb\u001b[0m\u001b[0;34m/\u001b[0m\u001b[0ma\u001b[0m\u001b[0;34m\u001b[0m\u001b[0;34m\u001b[0m\u001b[0m\n\u001b[0m",
            "\u001b[0;31mZeroDivisionError\u001b[0m: division by zero"
          ]
        }
      ],
      "source": [
        "a=0\n",
        "b=1\n",
        "b/a"
      ]
    },
    {
      "cell_type": "markdown",
      "source": [
        "**Q.3) Which Python statements are used to catch and handle exceptions? Explain with an example**"
      ],
      "metadata": {
        "id": "e78H7VBtQEL_"
      }
    },
    {
      "cell_type": "markdown",
      "source": [
        "In Python, the try and except statements are used to catch and handle exceptions. The try block contains the code that may raise an exception, and the except block contains the code that handles the exception if it occurs.\n",
        "\n",
        "Here's an example of how to use try and except to catch and handle an exception:"
      ],
      "metadata": {
        "id": "y1CFTMLVR3O9"
      }
    },
    {
      "cell_type": "code",
      "source": [
        "try:\n",
        "    num1 = int(input(\"Enter a number: \"))\n",
        "    num2 = int(input(\"Enter another number: \"))\n",
        "    result = num1 / num2\n",
        "    print(\"The result is:\", result)\n",
        "except ValueError:\n",
        "    print(\"You must enter a valid integer.\")\n",
        "except ZeroDivisionError:\n",
        "    print(\"You cannot divide by zero.\")"
      ],
      "metadata": {
        "colab": {
          "base_uri": "https://localhost:8080/"
        },
        "id": "KTgpN6-QR7QD",
        "outputId": "de635009-65cb-451b-fd79-ed5c9bcf346a"
      },
      "execution_count": 2,
      "outputs": [
        {
          "output_type": "stream",
          "name": "stdout",
          "text": [
            "Enter a number: 50\n",
            "Enter another number: 15\n",
            "The result is: 3.3333333333333335\n"
          ]
        }
      ]
    },
    {
      "cell_type": "markdown",
      "source": [
        "**Q.4) Explain with an example:**\n",
        "**a. try and else**\n",
        "**b. finally**\n",
        "**c. raise**"
      ],
      "metadata": {
        "id": "K3pMVbhZQiX1"
      }
    },
    {
      "cell_type": "markdown",
      "source": [
        "a. try and else:\n",
        "\n",
        "In Python, the try and else statements can be used together to handle exceptions that might occur in a block of code, but also to execute code regardless of whether an exception was raised or not. The else block is executed if the try block does not raise an exception.\n",
        "\n",
        "b. finally:\n",
        "\n",
        "The finally block in Python is used to define a set of statements that will be executed no matter what happens in the try and except blocks. The finally block is useful for performing clean-up operations, such as closing files or network connections, regardless of whether an exception was raised or not.\n",
        "\n",
        "c. raise:\n",
        "\n",
        "In Python, the raise statement is used to raise an exception manually in your code. This can be useful if you want to raise a specific type of exception with a custom message or data.\n",
        "\n",
        "Therefore, try and else are used together to execute code if no exception is raised, finally is used to perform clean-up operations, and raise is used to raise exceptions manually."
      ],
      "metadata": {
        "id": "mePUPwQPSfu3"
      }
    },
    {
      "cell_type": "markdown",
      "source": [
        "**Q.5) What are Custom Exceptions in python? Why do we Custom Exceptions? Explain with an example.** "
      ],
      "metadata": {
        "id": "esyp2Wa3Q56B"
      }
    },
    {
      "cell_type": "markdown",
      "source": [
        "Custom exceptions in Python are user-defined exceptions that can be created by the programmer to handle specific errors in a program. Custom exceptions help to make the code more organized, modular, and easier to maintain.\n",
        "\n",
        "We can create custom exceptions by defining a new class that inherits from the built-in Exception class or one of its subclasses. The custom exception class can have its own attributes and methods, allowing us to define and handle specific errors in a program.\n"
      ],
      "metadata": {
        "id": "rmvssQuBTSCR"
      }
    },
    {
      "cell_type": "markdown",
      "source": [
        "**Q.6) Create a custom exception class. Use this class to handle an exception.**"
      ],
      "metadata": {
        "id": "IuRn78cdRSXs"
      }
    },
    {
      "cell_type": "code",
      "source": [
        "class MyException(Exception):\n",
        "    pass\n",
        "  \n",
        "def my_function(x):\n",
        "    if x < 0:\n",
        "        raise MyException(\"x must be non-negative\")\n",
        "    return x ** 2\n",
        "\n",
        "try:\n",
        "    result = my_function(-5)\n",
        "except MyException as e:\n",
        "    print(\"Caught exception:\", e)\n",
        "else:\n",
        "    print(\"Result:\", result)"
      ],
      "metadata": {
        "colab": {
          "base_uri": "https://localhost:8080/"
        },
        "id": "VWunEFePUDnf",
        "outputId": "0e71f5f5-0684-4efa-931c-7503dbb44c73"
      },
      "execution_count": 3,
      "outputs": [
        {
          "output_type": "stream",
          "name": "stdout",
          "text": [
            "Caught exception: x must be non-negative\n"
          ]
        }
      ]
    }
  ]
}