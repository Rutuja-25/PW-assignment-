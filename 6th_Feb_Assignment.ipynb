{
  "nbformat": 4,
  "nbformat_minor": 0,
  "metadata": {
    "colab": {
      "provenance": []
    },
    "kernelspec": {
      "name": "python3",
      "display_name": "Python 3"
    },
    "language_info": {
      "name": "python"
    }
  },
  "cells": [
    {
      "cell_type": "markdown",
      "source": [
        "Q1. Create a function which will take a list as an argument and return the product of all the numbers\n",
        "after creating a flat list.\n",
        "Use the below-given list as an argument for your function.\n",
        "list1 = [1,2,3,4, [44,55,66, True], False, (34,56,78,89,34), {1,2,3,3,2,1}, {1:34, \"key2\": [55, 67, 78, 89], 4: (45,\n",
        "22, 61, 34)}, [56, 'data science'], 'Machine Learning']\n",
        "Note: you must extract numeric keys and values of the dictionary also."
      ],
      "metadata": {
        "id": "1M91j2X7cckD"
      }
    },
    {
      "cell_type": "code",
      "execution_count": 1,
      "metadata": {
        "colab": {
          "base_uri": "https://localhost:8080/"
        },
        "id": "sRMc5TXqcaAK",
        "outputId": "12687bc0-f8db-4814-b17d-5e494d702fb5"
      },
      "outputs": [
        {
          "output_type": "stream",
          "name": "stdout",
          "text": [
            "final list is   [1, 2, 3, 4, 44, 55, 66, True, False, 34, 56, 78, 89, 34, 1, 2, 3, 1, 34, 'key2', 55, 67, 78, 89, 4, 45, 22, 61, 34, 56, 'data science', 'machine learning']\n"
          ]
        },
        {
          "output_type": "execute_result",
          "data": {
            "text/plain": [
              "('product of all number in list is ', 4134711838987085478833841242112000)"
            ]
          },
          "metadata": {},
          "execution_count": 1
        }
      ],
      "source": [
        "list1 =[1,2,3,4,[44,55,66,True],False,(34,56,78,89,34),{1,2,3,3,2,1},{1:34,\"key2\":[55,67,78,89],4:(45,22,61,34)},[56,'data science'],'machine learning']\n",
        "def answer(list1):\n",
        "    a = []\n",
        "    for i in list1:\n",
        "        if type(i) == list or type(i)== tuple or type(i) == set :\n",
        "            for j in i:\n",
        "                a.append(j)\n",
        "        elif type(i) == dict:\n",
        "            for j in i:\n",
        "                a.append(j)\n",
        "                if type(i[j]) == list or type(i[j])== tuple or type(i[j]) == set :\n",
        "                    for k in i[j]:\n",
        "                        a.append(k)\n",
        "                else:\n",
        "                    a.append(i[j])\n",
        "        else:\n",
        "            a.append(i)\n",
        "    product = 1\n",
        "    for i in  a :\n",
        "        if type(i) == int or type(i) == float:\n",
        "            product = product*i\n",
        "    print(\"final list is  \",a)\n",
        "    return \"product of all number in list is \", product\n",
        "answer(list1)"
      ]
    },
    {
      "cell_type": "markdown",
      "source": [
        "Q2. Write a python program for encrypting a message sent to you by your friend. The logic of encryption\n",
        "should be such that, for a the output should be z. For b, the output should be y. For c, the output should\n",
        "be x respectively. Also, the whitespace should be replaced with a dollar sign. Keep the punctuation\n",
        "marks unchanged.\n",
        "Input Sentence: I want to become a Data Scientist.\n",
        "Encrypt the above input sentence using the program you just created.\n",
        "Note: Convert the given input sentence into lowercase before encrypting. The final output should be\n",
        "lowercase."
      ],
      "metadata": {
        "id": "s6O9lxyLcjah"
      }
    },
    {
      "cell_type": "code",
      "source": [
        "def encrypt_message(message):\n",
        "    encrypted_message = \"\"\n",
        "    for char in message.lower():\n",
        "        if char.isalpha():\n",
        "            encrypted_char = chr(ord('a') + (ord('z') - ord(char)))\n",
        "            encrypted_message += encrypted_char\n",
        "        elif char == \" \":\n",
        "            encrypted_message += \"$\"\n",
        "        else:\n",
        "            encrypted_message += char\n",
        "    return encrypted_message\n",
        "\n",
        "# Example usage:\n",
        "input_sentence = \"I want to become a Data Scientist.\"\n",
        "encrypted_sentence = encrypt_message(input_sentence)\n",
        "print(encrypted_sentence)  # Output: r dzmw gl yvxnv n wzt hvxlmrwgs."
      ],
      "metadata": {
        "colab": {
          "base_uri": "https://localhost:8080/"
        },
        "id": "HcxHCiMLcnc7",
        "outputId": "b7ec9733-0fcd-4258-cc79-82fdb33ca22c"
      },
      "execution_count": 2,
      "outputs": [
        {
          "output_type": "stream",
          "name": "stdout",
          "text": [
            "r$dzmg$gl$yvxlnv$z$wzgz$hxrvmgrhg.\n"
          ]
        }
      ]
    }
  ]
}