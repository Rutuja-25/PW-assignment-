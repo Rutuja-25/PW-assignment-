{
  "nbformat": 4,
  "nbformat_minor": 0,
  "metadata": {
    "colab": {
      "provenance": []
    },
    "kernelspec": {
      "name": "python3",
      "display_name": "Python 3"
    },
    "language_info": {
      "name": "python"
    }
  },
  "cells": [
    {
      "cell_type": "markdown",
      "source": [
        "*Q1. Explain with an example each when to use a for loop and a while loop.*"
      ],
      "metadata": {
        "id": "9t1uu5hAqlD-"
      }
    },
    {
      "cell_type": "markdown",
      "source": [
        "A for loop is used when you have a known number of iterations, and you want to repeat a set of instructions a specific number of times. For example, if you want to print out the numbers 1 to 5, you can use a for loop:"
      ],
      "metadata": {
        "id": "N2tnOBJYifbW"
      }
    },
    {
      "cell_type": "code",
      "source": [
        "for i in range(1, 6):\n",
        "    print(i)"
      ],
      "metadata": {
        "id": "UsciihzViuAA",
        "colab": {
          "base_uri": "https://localhost:8080/"
        },
        "outputId": "7d1865f4-f746-4744-8789-d7f42da3c57b"
      },
      "execution_count": null,
      "outputs": [
        {
          "output_type": "stream",
          "name": "stdout",
          "text": [
            "1\n",
            "2\n",
            "3\n",
            "4\n",
            "5\n"
          ]
        }
      ]
    },
    {
      "cell_type": "markdown",
      "source": [
        "A while loop, on the other hand, is used when you want to repeat a set of instructions as long as a certain condition is met. For example, if you want to print out the numbers 1 to 10 only if a certain condition is met, you can use a while loop. In this example, the while loop will keep executing as long as i is less than or equal to 10. When i becomes greater than 10, the loop will exit."
      ],
      "metadata": {
        "id": "H6ru5tU_i1XB"
      }
    },
    {
      "cell_type": "code",
      "source": [
        "i = 1\n",
        "while i <= 10:\n",
        "    print(i)\n",
        "    i += 1"
      ],
      "metadata": {
        "colab": {
          "base_uri": "https://localhost:8080/"
        },
        "id": "tC6ZEDwai3bE",
        "outputId": "f08e2e26-fb67-4109-93ed-01ef4708d75c"
      },
      "execution_count": null,
      "outputs": [
        {
          "output_type": "stream",
          "name": "stdout",
          "text": [
            "1\n",
            "2\n",
            "3\n",
            "4\n",
            "5\n",
            "6\n",
            "7\n",
            "8\n",
            "9\n",
            "10\n"
          ]
        }
      ]
    },
    {
      "cell_type": "markdown",
      "source": [
        "*Q2. Write a python program to print the sum and product of the first 10 natural numbers using for\n",
        "and while loop.*"
      ],
      "metadata": {
        "id": "ic8uBKr_rNRd"
      }
    },
    {
      "cell_type": "code",
      "source": [
        "sum = 0\n",
        "product = 1\n",
        "\n",
        "for i in range(1,11):\n",
        "    sum+=i\n",
        "    product*=i\n",
        "\n",
        "print(\"Sum of first 10 natural numbers:\", sum)\n",
        "print(\"Product of first 10 natural numbers:\", product)"
      ],
      "metadata": {
        "colab": {
          "base_uri": "https://localhost:8080/"
        },
        "id": "n6zW5NTLrTUy",
        "outputId": "469dccc3-50ee-432b-e306-c6215e35d31a"
      },
      "execution_count": 4,
      "outputs": [
        {
          "output_type": "stream",
          "name": "stdout",
          "text": [
            "Sum of first 10 natural numbers: 55\n",
            "Product of first 10 natural numbers: 3628800\n"
          ]
        }
      ]
    },
    {
      "cell_type": "code",
      "source": [
        "sum1 = 0\n",
        "product1 = 1\n",
        "j=1\n",
        "\n",
        "while j<=10:\n",
        "    sum1+=j\n",
        "    product1*=j\n",
        "    j+=1\n",
        "print(\"Sum of first 10 natural numbers:\", sum1)\n",
        "print(\"Product of first 10 natural numbers:\", product1)"
      ],
      "metadata": {
        "colab": {
          "base_uri": "https://localhost:8080/"
        },
        "id": "K65L4KyXre4w",
        "outputId": "7978f949-67b7-42ec-f46d-f4f50528f089"
      },
      "execution_count": 5,
      "outputs": [
        {
          "output_type": "stream",
          "name": "stdout",
          "text": [
            "Sum of first 10 natural numbers: 55\n",
            "Product of first 10 natural numbers: 3628800\n"
          ]
        }
      ]
    },
    {
      "cell_type": "markdown",
      "source": [
        "\n",
        "*Q3. Create a python program to compute the electricity bill for a household.*\n",
        "\n",
        "*The per-unit charges in rupees are as follows: For the first 100 units, the user will be charged Rs. 4.5 per unit, for the next 100 units, the user will be charged Rs. 6 per unit, and for the next 100 units, the user will be charged Rs. 10 per unit, After 300 units and above the user will be charged Rs. 20 per unit. You are required to take the units of electricity consumed in a month from the user as input. Your program must pass this test case: when the unit of electricity consumed by the user in a month is 310, the total electricity bill should be 2250.*\n"
      ],
      "metadata": {
        "id": "GC2zLZ_GthKj"
      }
    },
    {
      "cell_type": "code",
      "source": [
        "units=int(input(\"No of units consumed this month = \"))\n",
        "\n",
        "bill=0\n",
        "bill1=450\n",
        "bill2=600\n",
        "bill3=1000\n",
        "if units>500:\n",
        "    t=(units-500)\n",
        "    bill=bill+t*20+bill1+bill2+bill3\n",
        "\n",
        "elif 500>=units>300:\n",
        "    t=(units-300)\n",
        "    bill=bill+t*10+bill1+bill2\n",
        "    \n",
        "\n",
        "elif 300>=units>100:\n",
        "    t=(units-100)\n",
        "    bill=bill+t*6+bill1\n",
        "  \n",
        "\n",
        "elif 0<=units<=100:\n",
        "    bill=bill+units*4.5\n",
        "\n",
        "else :\n",
        "    print(\"invalid input\")\n",
        "    \n",
        "print(\"Your electricity bill is\",bill)"
      ],
      "metadata": {
        "colab": {
          "base_uri": "https://localhost:8080/"
        },
        "id": "eshw6mJzssiv",
        "outputId": "d8615fe3-c3f6-4bbc-e59e-4d6dda0b2afb"
      },
      "execution_count": 10,
      "outputs": [
        {
          "output_type": "stream",
          "name": "stdout",
          "text": [
            "No of units consumed this month = 500\n",
            "Your electricity bill is 3050\n"
          ]
        }
      ]
    },
    {
      "cell_type": "markdown",
      "source": [
        "*Q4. Create a list of numbers from 1 to 100. Use for loop and while loop to calculate the cube of each\n",
        "number and if the cube of that number is divisible by 4 or 5 then append that number in a list and print\n",
        "that list.*"
      ],
      "metadata": {
        "id": "OQHB4S-8tX_8"
      }
    },
    {
      "cell_type": "code",
      "source": [
        "result = []\n",
        "for i in range(1, 101):\n",
        "    cube = i**3\n",
        "    if cube % 4 == 0 or cube % 5 == 0:\n",
        "        result.append(i)\n",
        "print(result)"
      ],
      "metadata": {
        "colab": {
          "base_uri": "https://localhost:8080/"
        },
        "id": "5WybV00tteet",
        "outputId": "55bb8f50-54c1-4a09-9dd3-743a955a4e3a"
      },
      "execution_count": 11,
      "outputs": [
        {
          "output_type": "stream",
          "name": "stdout",
          "text": [
            "[2, 4, 5, 6, 8, 10, 12, 14, 15, 16, 18, 20, 22, 24, 25, 26, 28, 30, 32, 34, 35, 36, 38, 40, 42, 44, 45, 46, 48, 50, 52, 54, 55, 56, 58, 60, 62, 64, 65, 66, 68, 70, 72, 74, 75, 76, 78, 80, 82, 84, 85, 86, 88, 90, 92, 94, 95, 96, 98, 100]\n"
          ]
        }
      ]
    },
    {
      "cell_type": "code",
      "source": [
        "result = []\n",
        "i = 1\n",
        "while i <= 100:\n",
        "    cube = i**3\n",
        "    if cube % 4 == 0 or cube % 5 == 0:\n",
        "        result.append(i)\n",
        "    i += 1\n",
        "print(result)"
      ],
      "metadata": {
        "colab": {
          "base_uri": "https://localhost:8080/"
        },
        "id": "ub24ihxku7LR",
        "outputId": "92245441-9300-4c46-f401-d660ba27cde5"
      },
      "execution_count": 12,
      "outputs": [
        {
          "output_type": "stream",
          "name": "stdout",
          "text": [
            "[2, 4, 5, 6, 8, 10, 12, 14, 15, 16, 18, 20, 22, 24, 25, 26, 28, 30, 32, 34, 35, 36, 38, 40, 42, 44, 45, 46, 48, 50, 52, 54, 55, 56, 58, 60, 62, 64, 65, 66, 68, 70, 72, 74, 75, 76, 78, 80, 82, 84, 85, 86, 88, 90, 92, 94, 95, 96, 98, 100]\n"
          ]
        }
      ]
    },
    {
      "cell_type": "markdown",
      "source": [
        "*Q5. Write a program to filter count vowels in the below-given string.\n",
        "string = \"I want to become a data scientist\"*"
      ],
      "metadata": {
        "id": "LCkH1g83vco_"
      }
    },
    {
      "cell_type": "code",
      "source": [
        "string = \"I want to become a data scientist\"\n",
        "vowels = \"aeiouAEIOU\"\n",
        "count = 0\n",
        "\n",
        "for char in string:\n",
        "    if char in vowels:\n",
        "        count += 1\n",
        "\n",
        "print(\"Number of vowels:\", count)"
      ],
      "metadata": {
        "colab": {
          "base_uri": "https://localhost:8080/"
        },
        "id": "Zu_IQxuuvf1m",
        "outputId": "1dc40cc6-68fe-472d-f645-041c821ce38b"
      },
      "execution_count": 13,
      "outputs": [
        {
          "output_type": "stream",
          "name": "stdout",
          "text": [
            "Number of vowels: 12\n"
          ]
        }
      ]
    }
  ]
}