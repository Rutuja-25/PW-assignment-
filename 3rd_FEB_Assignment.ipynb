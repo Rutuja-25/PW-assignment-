{
  "nbformat": 4,
  "nbformat_minor": 0,
  "metadata": {
    "colab": {
      "provenance": []
    },
    "kernelspec": {
      "name": "python3",
      "display_name": "Python 3"
    },
    "language_info": {
      "name": "python"
    }
  },
  "cells": [
    {
      "cell_type": "markdown",
      "source": [
        "Q1. Which keyword is used to create a function? Create a function to return a list of odd numbers in the\n",
        "range of 1 to 25."
      ],
      "metadata": {
        "id": "RVQMhx7k6wi4"
      }
    },
    {
      "cell_type": "markdown",
      "source": [
        "In Python, the keyword \"def\" is used to create a function. Here's a function that returns a list of odd numbers in the range of 1 to 25:"
      ],
      "metadata": {
        "id": "0Mw_aQFu6-qd"
      }
    },
    {
      "cell_type": "code",
      "source": [
        "def odd_numbers():\n",
        "    odd_num_list = []\n",
        "    for i in range(1, 26):\n",
        "        if i % 2 != 0:\n",
        "            odd_num_list.append(i)\n",
        "    return odd_num_list\n",
        "odd_numbers()"
      ],
      "metadata": {
        "colab": {
          "base_uri": "https://localhost:8080/"
        },
        "id": "GdmjvbJd6zjR",
        "outputId": "e106a3be-a3a8-4e03-8afc-86b2e4d167f2"
      },
      "execution_count": 2,
      "outputs": [
        {
          "output_type": "execute_result",
          "data": {
            "text/plain": [
              "[1, 3, 5, 7, 9, 11, 13, 15, 17, 19, 21, 23, 25]"
            ]
          },
          "metadata": {},
          "execution_count": 2
        }
      ]
    },
    {
      "cell_type": "markdown",
      "source": [
        "Q2. Why *args and **kwargs is used in some functions? Create a function each for *args and **kwargs\n",
        "to demonstrate their use.\n"
      ],
      "metadata": {
        "id": "PdHYsBjE7E5S"
      }
    },
    {
      "cell_type": "markdown",
      "source": [
        "In Python, *args and **kwargs are used to pass a variable number of arguments to a function.\n",
        "\n",
        "*args allows you to pass a variable number of non-keyword arguments to a function. The * in *args tells Python to pass all non-keyword arguments as a tuple to the function.\n",
        "\n",
        "**kwargs allows you to pass a variable number of keyword arguments to a function. The ** in **kwargs tells Python to pass all keyword arguments as a dictionary to the function.\n",
        "\n",
        "\n",
        "Here's an example of a function that uses *args and **kwargs:"
      ],
      "metadata": {
        "id": "Pe8PerLM7qOu"
      }
    },
    {
      "cell_type": "code",
      "source": [
        "def print_args(*args):\n",
        "    for arg in args:\n",
        "        print(arg)\n",
        "print_args(1,2,3)"
      ],
      "metadata": {
        "colab": {
          "base_uri": "https://localhost:8080/"
        },
        "id": "k_G0hq6a7rNQ",
        "outputId": "ddc0717d-af9f-4ace-ef34-c4612db3e0a8"
      },
      "execution_count": 3,
      "outputs": [
        {
          "output_type": "stream",
          "name": "stdout",
          "text": [
            "1\n",
            "2\n",
            "3\n"
          ]
        }
      ]
    },
    {
      "cell_type": "code",
      "source": [
        "def print_kwargs(**kwargs):\n",
        "    for key, value in kwargs.items():\n",
        "        print(f\"{key}: {value}\")\n",
        "print_kwargs(name=\"Rutuja\", age=20)"
      ],
      "metadata": {
        "colab": {
          "base_uri": "https://localhost:8080/"
        },
        "id": "6Fq-EKUj8F85",
        "outputId": "a3ac4c40-c0f6-4178-d958-b86a52dc4481"
      },
      "execution_count": 6,
      "outputs": [
        {
          "output_type": "stream",
          "name": "stdout",
          "text": [
            "name: Rutuja\n",
            "age: 20\n"
          ]
        }
      ]
    },
    {
      "cell_type": "markdown",
      "source": [
        "Q3. What is an iterator in python? Name the method used to initialise the iterator object and the method\n",
        "used for iteration. Use these methods to print the first five elements of the given list [2, 4, 6, 8, 10, 12, 14,\n",
        "16, 18, 20]."
      ],
      "metadata": {
        "id": "Vj3Hiq1D8jXW"
      }
    },
    {
      "cell_type": "markdown",
      "source": [
        "In Python, an iterator is an object that implements the iterator protocol, which consists of two methods: __iter__() and __next__().\n",
        "\n",
        "__iter__() is used to initialize the iterator object and __next__() is used to get the next value from the iterator."
      ],
      "metadata": {
        "id": "5gE61XY48nW0"
      }
    },
    {
      "cell_type": "code",
      "source": [
        "my_list = [2, 4, 6, 8, 10, 12, 14, 16, 18, 20]\n",
        "\n",
        "my_iter = iter(my_list)\n",
        "\n",
        "for i in range(5):\n",
        "    print(next(my_iter))"
      ],
      "metadata": {
        "colab": {
          "base_uri": "https://localhost:8080/"
        },
        "id": "z-NxSSqc8qez",
        "outputId": "60971832-a044-4c03-c2b0-43b78f15f328"
      },
      "execution_count": 7,
      "outputs": [
        {
          "output_type": "stream",
          "name": "stdout",
          "text": [
            "2\n",
            "4\n",
            "6\n",
            "8\n",
            "10\n"
          ]
        }
      ]
    },
    {
      "cell_type": "markdown",
      "source": [
        "Q4. What is a generator function in python? Why yield keyword is used? Give an example of a generator\n",
        "function."
      ],
      "metadata": {
        "id": "vhBo4d1081rj"
      }
    },
    {
      "cell_type": "markdown",
      "source": [
        "A generator function is a special type of function in Python that returns a generator iterator. Unlike a normal function that returns a value, a generator function returns a generator object that can be used to iterate over a sequence of values.\n",
        "\n",
        "The yield keyword is used in a generator function to return a value and pause the function's execution, allowing the generator object to remember its state."
      ],
      "metadata": {
        "id": "dojs8oRB84QT"
      }
    },
    {
      "cell_type": "code",
      "source": [
        "def fibonacci_sequence():\n",
        "    a, b = 0, 1\n",
        "    while True:\n",
        "        yield a\n",
        "        a, b = b, a + b\n",
        "gen = fibonacci_sequence()\n",
        "\n",
        "for i in range(10):\n",
        "    print(next(gen))\n"
      ],
      "metadata": {
        "colab": {
          "base_uri": "https://localhost:8080/"
        },
        "id": "nxEG_UhS9IRR",
        "outputId": "acdcc584-f2a7-414a-d97b-d5be13a34508"
      },
      "execution_count": 10,
      "outputs": [
        {
          "output_type": "stream",
          "name": "stdout",
          "text": [
            "0\n",
            "1\n",
            "1\n",
            "2\n",
            "3\n",
            "5\n",
            "8\n",
            "13\n",
            "21\n",
            "34\n"
          ]
        }
      ]
    },
    {
      "cell_type": "markdown",
      "source": [
        "Q5. Create a generator function for prime numbers less than 1000. Use the next() method to print the\n",
        "first 20 prime numbers."
      ],
      "metadata": {
        "id": "7-mNP8dY9WS3"
      }
    },
    {
      "cell_type": "code",
      "source": [
        "def prime_numbers():\n",
        "    primes = []\n",
        "    for num in range(2, 1000):\n",
        "        for prime in primes:\n",
        "            if num % prime == 0:\n",
        "                break\n",
        "        else:\n",
        "            primes.append(num)\n",
        "            yield num\n",
        "gen = prime_numbers()\n",
        "\n",
        "for i in range(20):\n",
        "    print(next(gen))"
      ],
      "metadata": {
        "colab": {
          "base_uri": "https://localhost:8080/"
        },
        "id": "2eP3yM5S9gdx",
        "outputId": "2ddb380c-08fa-4948-890b-2b0cdba3aa44"
      },
      "execution_count": 13,
      "outputs": [
        {
          "output_type": "stream",
          "name": "stdout",
          "text": [
            "2\n",
            "3\n",
            "5\n",
            "7\n",
            "11\n",
            "13\n",
            "17\n",
            "19\n",
            "23\n",
            "29\n",
            "31\n",
            "37\n",
            "41\n",
            "43\n",
            "47\n",
            "53\n",
            "59\n",
            "61\n",
            "67\n",
            "71\n"
          ]
        }
      ]
    },
    {
      "cell_type": "markdown",
      "source": [
        "Q6. Write a python program to print the first 10 Fibonacci numbers using a while loop.\n"
      ],
      "metadata": {
        "id": "FuceeY9I91E4"
      }
    },
    {
      "cell_type": "code",
      "source": [
        "a, b = 0, 1\n",
        "count = 0\n",
        "\n",
        "while count < 10:\n",
        "    print(a)\n",
        "    a, b = b, a + b\n",
        "    count += 1"
      ],
      "metadata": {
        "colab": {
          "base_uri": "https://localhost:8080/"
        },
        "id": "An51pUF895c6",
        "outputId": "a40c2f4c-9f1e-47b1-f8fa-6f933a1d414b"
      },
      "execution_count": 14,
      "outputs": [
        {
          "output_type": "stream",
          "name": "stdout",
          "text": [
            "0\n",
            "1\n",
            "1\n",
            "2\n",
            "3\n",
            "5\n",
            "8\n",
            "13\n",
            "21\n",
            "34\n"
          ]
        }
      ]
    },
    {
      "cell_type": "markdown",
      "source": [
        "Q7. Write a List Comprehension to iterate through the given string: ‘pwskills’.\n",
        "Expected output: ['p', 'w', 's', 'k', 'i', 'l', 'l', 's']"
      ],
      "metadata": {
        "id": "CTh34JG9-Bnp"
      }
    },
    {
      "cell_type": "code",
      "source": [
        "string = 'pwskills'\n",
        "characters = [char for char in string]\n",
        "print(characters)"
      ],
      "metadata": {
        "colab": {
          "base_uri": "https://localhost:8080/"
        },
        "id": "lSZwkV-mAjEj",
        "outputId": "19772fa9-1ec7-4ea0-850e-ef55769a6cf6"
      },
      "execution_count": 15,
      "outputs": [
        {
          "output_type": "stream",
          "name": "stdout",
          "text": [
            "['p', 'w', 's', 'k', 'i', 'l', 'l', 's']\n"
          ]
        }
      ]
    },
    {
      "cell_type": "markdown",
      "source": [
        "Q8. Write a python program to check whether a given number is Palindrome or not using a while loop."
      ],
      "metadata": {
        "id": "PaG_u0vRAmJR"
      }
    },
    {
      "cell_type": "code",
      "source": [
        "def is_palindrome(number):\n",
        "    original = number\n",
        "    reverse = 0\n",
        "    while number > 0:\n",
        "        last_digit = number % 10\n",
        "        reverse = (reverse * 10) + last_digit\n",
        "        number //= 10\n",
        "    return original == reverse\n",
        "\n",
        "number = int(input(\"Enter a number: \"))\n",
        "\n",
        "if is_palindrome(number):\n",
        "    print(\"The number is a palindrome.\")\n",
        "else:\n",
        "    print(\"The number is not a palindrome.\")"
      ],
      "metadata": {
        "colab": {
          "base_uri": "https://localhost:8080/"
        },
        "id": "W6lT5WIJAspd",
        "outputId": "21425a5a-ad94-491f-9879-44d53dcf410b"
      },
      "execution_count": 17,
      "outputs": [
        {
          "output_type": "stream",
          "name": "stdout",
          "text": [
            "Enter a number: 50\n",
            "The number is not a palindrome.\n"
          ]
        }
      ]
    },
    {
      "cell_type": "markdown",
      "source": [
        "Q9. Write a code to print odd numbers from 1 to 100 using list comprehension.\n",
        "Note: Use a list comprehension to create a list from 1 to 100 and use another List comprehension to filter\n",
        "out odd numbers."
      ],
      "metadata": {
        "id": "0xlYjkN9BVrw"
      }
    },
    {
      "cell_type": "code",
      "source": [
        "# Create a list from 1 to 100\n",
        "numbers = [num for num in range(1, 101)]\n",
        "\n",
        "# Use a list comprehension to filter out odd numbers\n",
        "odd_numbers = [num for num in numbers if num % 2 != 0]\n",
        "\n",
        "print(odd_numbers)"
      ],
      "metadata": {
        "colab": {
          "base_uri": "https://localhost:8080/"
        },
        "id": "cmoINsDsBry2",
        "outputId": "7f25c3c1-f5f4-4c8e-bafb-3c15be7d32fc"
      },
      "execution_count": 18,
      "outputs": [
        {
          "output_type": "stream",
          "name": "stdout",
          "text": [
            "[1, 3, 5, 7, 9, 11, 13, 15, 17, 19, 21, 23, 25, 27, 29, 31, 33, 35, 37, 39, 41, 43, 45, 47, 49, 51, 53, 55, 57, 59, 61, 63, 65, 67, 69, 71, 73, 75, 77, 79, 81, 83, 85, 87, 89, 91, 93, 95, 97, 99]\n"
          ]
        }
      ]
    }
  ]
}