{
  "nbformat": 4,
  "nbformat_minor": 0,
  "metadata": {
    "colab": {
      "provenance": []
    },
    "kernelspec": {
      "name": "python3",
      "display_name": "Python 3"
    },
    "language_info": {
      "name": "python"
    }
  },
  "cells": [
    {
      "cell_type": "markdown",
      "source": [
        "Q1. You are writing code for a company. The requirement of the company is that you create a python\n",
        "function that will check whether the password entered by the user is correct or not. The function should\n",
        "take the password as input and return the string “Valid Password” if the entered password follows the\n",
        "below-given password guidelines else it should return “Invalid Password”.\n",
        "Note: 1. The Password should contain at least two uppercase letters and at least two lowercase letters.\n",
        "2. The Password should contain at least a number and three special characters.\n",
        "3. The length of the password should be 10 characters long."
      ],
      "metadata": {
        "id": "xgLodiFU_teK"
      }
    },
    {
      "cell_type": "code",
      "source": [
        "def check_password(password):\n",
        "    if len(password)  < 10:\n",
        "        return \"Invalid Password\"\n",
        "    num_count = sum(c.isdigit() for c in password)\n",
        "    if num_count < 1:\n",
        "        return \"Invalid Password\"\n",
        "    special_count = sum(1 for c in password if c in \"!@#$%^&*()-+\")\n",
        "    if special_count < 3:\n",
        "        return \"Invalid Password\"\n",
        "    upper_count = sum(c.isupper() for c in password)\n",
        "    lower_count = sum(c.islower() for c in password)\n",
        "    if upper_count < 2 or lower_count < 2:\n",
        "        return \"Invalid Password\"\n",
        "    return \"Valid Password\"\n",
        "\n",
        "check_password(\"password!@#123\")"
      ],
      "metadata": {
        "colab": {
          "base_uri": "https://localhost:8080/",
          "height": 35
        },
        "id": "ec_kWMwDFlyk",
        "outputId": "dd6751a0-c035-46d6-acaa-d48ebcb27631"
      },
      "execution_count": 2,
      "outputs": [
        {
          "output_type": "execute_result",
          "data": {
            "text/plain": [
              "'Invalid Password'"
            ],
            "application/vnd.google.colaboratory.intrinsic+json": {
              "type": "string"
            }
          },
          "metadata": {},
          "execution_count": 2
        }
      ]
    },
    {
      "cell_type": "markdown",
      "source": [
        "Q2. Solve the below-given questions using at least one of the following:\n",
        "1. Lambda function\n",
        "2. Filter function\n",
        "3. Zap function\n",
        "4. List Comprehension\n",
        "\n"
      ],
      "metadata": {
        "id": "6pOgneHOGXuF"
      }
    },
    {
      "cell_type": "code",
      "source": [
        "str=\"My name is Rutuja\"\n",
        "\n",
        "a=lambda x,y: y.startswith(x)  \n",
        "a(\"M\",str)"
      ],
      "metadata": {
        "colab": {
          "base_uri": "https://localhost:8080/"
        },
        "id": "oIBIKkDxGaTP",
        "outputId": "f62104f2-6bc7-4698-8e1f-d929eac9ea42"
      },
      "execution_count": 3,
      "outputs": [
        {
          "output_type": "execute_result",
          "data": {
            "text/plain": [
              "True"
            ]
          },
          "metadata": {},
          "execution_count": 3
        }
      ]
    },
    {
      "cell_type": "code",
      "source": [
        "b=lambda y: y.isnumeric()  \n",
        "b(str)"
      ],
      "metadata": {
        "colab": {
          "base_uri": "https://localhost:8080/"
        },
        "id": "mAOwls30G_8P",
        "outputId": "010fa627-1ef7-4bfc-ebab-754f7c2b44ff"
      },
      "execution_count": 4,
      "outputs": [
        {
          "output_type": "execute_result",
          "data": {
            "text/plain": [
              "False"
            ]
          },
          "metadata": {},
          "execution_count": 4
        }
      ]
    },
    {
      "cell_type": "code",
      "source": [
        "t=[(\"mango\",99),(\"orange\",80), (\"grapes\", 1000)]\n",
        "t.sort()\n",
        "t"
      ],
      "metadata": {
        "colab": {
          "base_uri": "https://localhost:8080/"
        },
        "id": "lxejxCo8HCBr",
        "outputId": "6830ae9a-4413-4c72-b1c5-09f4c23bbfd0"
      },
      "execution_count": 5,
      "outputs": [
        {
          "output_type": "execute_result",
          "data": {
            "text/plain": [
              "[('grapes', 1000), ('mango', 99), ('orange', 80)]"
            ]
          },
          "metadata": {},
          "execution_count": 5
        }
      ]
    },
    {
      "cell_type": "code",
      "source": [
        "fruits = [(\"mango\", 99), (\"orange\", 80), (\"grapes\", 1000)]\n",
        "\n",
        "sorted_fruits = sorted(fruits, key=lambda x: x[1])\n",
        "\n",
        "print(sorted_fruits)"
      ],
      "metadata": {
        "colab": {
          "base_uri": "https://localhost:8080/"
        },
        "id": "5hxx7loPHG5f",
        "outputId": "1329bab6-9703-4b0d-b9e2-487773df4299"
      },
      "execution_count": 6,
      "outputs": [
        {
          "output_type": "stream",
          "name": "stdout",
          "text": [
            "[('orange', 80), ('mango', 99), ('grapes', 1000)]\n"
          ]
        }
      ]
    },
    {
      "cell_type": "code",
      "source": [
        "l1=[x for x in range(1,11)]\n",
        "\n",
        "list(map(lambda x:x**2,l1))"
      ],
      "metadata": {
        "colab": {
          "base_uri": "https://localhost:8080/"
        },
        "id": "WNncCHNaHHSs",
        "outputId": "9f1cbe66-0c38-41bf-aaf0-ccc44699caf2"
      },
      "execution_count": 7,
      "outputs": [
        {
          "output_type": "execute_result",
          "data": {
            "text/plain": [
              "[1, 4, 9, 16, 25, 36, 49, 64, 81, 100]"
            ]
          },
          "metadata": {},
          "execution_count": 7
        }
      ]
    },
    {
      "cell_type": "code",
      "source": [
        "list(map(lambda x:x** -3, l1))"
      ],
      "metadata": {
        "colab": {
          "base_uri": "https://localhost:8080/"
        },
        "id": "C3Y7GLZCHIzc",
        "outputId": "6316af03-9124-4ebe-b3db-619af281e204"
      },
      "execution_count": 8,
      "outputs": [
        {
          "output_type": "execute_result",
          "data": {
            "text/plain": [
              "[1.0,\n",
              " 0.125,\n",
              " 0.037037037037037035,\n",
              " 0.015625,\n",
              " 0.008,\n",
              " 0.004629629629629629,\n",
              " 0.0029154518950437317,\n",
              " 0.001953125,\n",
              " 0.0013717421124828531,\n",
              " 0.001]"
            ]
          },
          "metadata": {},
          "execution_count": 8
        }
      ]
    },
    {
      "cell_type": "code",
      "source": [
        "r=lambda x : f\"{x} is a even number\" if x%2==0 else f\"{x} is a odd no number\"\n",
        "r(12)"
      ],
      "metadata": {
        "colab": {
          "base_uri": "https://localhost:8080/",
          "height": 35
        },
        "id": "GaIm5JB5HLAZ",
        "outputId": "ee0de68a-cd54-4815-a43b-431330479cd9"
      },
      "execution_count": 9,
      "outputs": [
        {
          "output_type": "execute_result",
          "data": {
            "text/plain": [
              "'12 is a even number'"
            ],
            "application/vnd.google.colaboratory.intrinsic+json": {
              "type": "string"
            }
          },
          "metadata": {},
          "execution_count": 9
        }
      ]
    },
    {
      "cell_type": "code",
      "source": [
        "l2=[1,2,3,4,5,6,7,8,9,10]\n",
        "list(filter(lambda x: x%2!=0,l2))"
      ],
      "metadata": {
        "colab": {
          "base_uri": "https://localhost:8080/"
        },
        "id": "MjMKkCbIHNMJ",
        "outputId": "6c06c91d-4144-412f-ec94-96dc30504236"
      },
      "execution_count": 10,
      "outputs": [
        {
          "output_type": "execute_result",
          "data": {
            "text/plain": [
              "[1, 3, 5, 7, 9]"
            ]
          },
          "metadata": {},
          "execution_count": 10
        }
      ]
    },
    {
      "cell_type": "code",
      "source": [
        "numbers = [1, 2, 3, 4, 5, 6, -1, -2, -3, -4, -5, 0]\n",
        "positive_numbers = list(filter(lambda x: x > 0, numbers))\n",
        "negative_numbers = list(filter(lambda x: x < 0, numbers))\n",
        "\n",
        "print(\"Positive integers: \", positive_numbers)\n",
        "print(\"Negative integers: \", negative_numbers)"
      ],
      "metadata": {
        "id": "YPwsfLADHPW1",
        "outputId": "3701ba45-281d-4f56-8414-7e4a6b1b703a",
        "colab": {
          "base_uri": "https://localhost:8080/"
        }
      },
      "execution_count": 11,
      "outputs": [
        {
          "output_type": "stream",
          "name": "stdout",
          "text": [
            "Positive integers:  [1, 2, 3, 4, 5, 6]\n",
            "Negative integers:  [-1, -2, -3, -4, -5]\n"
          ]
        }
      ]
    }
  ]
}