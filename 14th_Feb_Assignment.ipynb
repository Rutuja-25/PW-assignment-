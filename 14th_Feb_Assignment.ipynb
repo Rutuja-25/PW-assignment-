{
  "nbformat": 4,
  "nbformat_minor": 0,
  "metadata": {
    "colab": {
      "provenance": []
    },
    "kernelspec": {
      "name": "python3",
      "display_name": "Python 3"
    },
    "language_info": {
      "name": "python"
    }
  },
  "cells": [
    {
      "cell_type": "markdown",
      "source": [
        "**Q.1) What is multithreading in python? Why is it used? Name the module used to handle threads in python**"
      ],
      "metadata": {
        "id": "1EYSG1M2BTgf"
      }
    },
    {
      "cell_type": "markdown",
      "source": [
        "Multithreading in Python is the ability to run multiple threads (also known as lightweight processes) simultaneously within a single program. Each thread runs in a separate execution context, but shares the same memory space, allowing them to access the same data and resources.\n",
        "\n",
        "Multithreading is used in Python to improve the performance and responsiveness of programs that perform time-consuming or I/O-bound tasks, by allowing them to execute concurrently. For example, a web server that handles multiple requests simultaneously can benefit from multithreading, as each request can be handled by a separate thread, allowing the server to handle more requests in less time.\n",
        "\n",
        "The threading module is used to handle threads in Python. It provides a simple and efficient way to create and manage threads, allowing developers to write concurrent programs with ease. The threading module provides a Thread class that can be used to create new threads, and various synchronization primitives such as Lock, Semaphore, and Event to coordinate access to shared resources between threads."
      ],
      "metadata": {
        "id": "dGuIxMfHBjVF"
      }
    },
    {
      "cell_type": "markdown",
      "source": [
        "**Q.2) Why threading module used? Write the use of the following functions :**\n",
        "**1. activecount()**\n",
        "**2. currentThread()**\n",
        "**3. enumerate()**"
      ],
      "metadata": {
        "id": "Ij_bzPiTBmP-"
      }
    },
    {
      "cell_type": "markdown",
      "source": [
        "The threading module in Python is used to create and manage threads, allowing multiple threads to run concurrently within a single program. It provides a simple and efficient way to write concurrent programs, and allows developers to improve the performance and responsiveness of their applications.\n",
        "\n",
        "Here are the uses of the following functions in the threading module:\n",
        "\n",
        "activeCount(): This function returns the number of currently active threads in the current thread's context. It can be used to monitor the number of threads running in the program and to ensure that the program is not creating too many threads.\n",
        "\n",
        "currentThread(): This function returns a reference to the current thread object. It can be used to get information about the current thread, such as its name, identifier, and state.\n",
        "\n",
        "enumerate(): This function returns a list of all thread objects that are currently active in the current thread's context. It can be used to get information about all the threads running in the program, such as their names, identifiers, and states. The enumerate() function is particularly useful for debugging and monitoring purposes, as it allows developers to get a snapshot of the current state of all threads in the program."
      ],
      "metadata": {
        "id": "McTg_JxQCBtQ"
      }
    },
    {
      "cell_type": "markdown",
      "source": [
        " **Q.3) Explain the following functions -\n",
        "**1. run()**\n",
        "**2. start()**\n",
        "**3. join()**\n",
        "**4. isAlive()**"
      ],
      "metadata": {
        "id": "IagNqPzJDr4p"
      }
    },
    {
      "cell_type": "markdown",
      "source": [
        "In Python's threading module, the Thread class provides several methods to manage and control threads. Here's an explanation of some of the most commonly used methods:\n",
        "\n",
        "run(): This method defines the code to be executed in the thread. When a new thread is created, the run() method is called automatically, and the thread starts executing the code defined in the method.\n",
        "\n",
        "start(): This method starts a new thread by calling the run() method in a separate thread of control. The new thread begins executing concurrently with the main thread. It's important to note that the start() method can only be called once per thread. If you try to call it again, you will get a RuntimeError.\n",
        "\n",
        "join(): This method blocks the calling thread until the thread on which it's called completes execution. If you call join() on a thread before it has been started, it will have no effect. The join() method is often used to ensure that a thread has completed its work before the main thread exits or continues execution.\n",
        "\n",
        "isAlive(): This method returns a boolean value indicating whether the thread is currently executing or not. If the thread has finished executing or has not been started yet, isAlive() will return False. Otherwise, it will return True. The isAlive() method is often used to monitor the status of a thread and to determine whether it's safe to call join() on it.\n",
        "\n",
        "\n",
        "\n",
        "\n"
      ],
      "metadata": {
        "id": "euTBeytTC8EA"
      }
    },
    {
      "cell_type": "markdown",
      "source": [
        "**Q.4) Write a python program to create two threads. Thread one must print the list of squares and thread two must print the list of cubes**"
      ],
      "metadata": {
        "id": "flBsFkxDDIr8"
      }
    },
    {
      "cell_type": "code",
      "source": [
        "import threading\n",
        "\n",
        "def print_squares():\n",
        "    for i in range(1, 11):\n",
        "        print(f\"Square of {i}: {i ** 2}\")\n",
        "\n",
        "def print_cubes():\n",
        "    for i in range(1, 11):\n",
        "        print(f\"Cube of {i}: {i ** 3}\")\n",
        "\n",
        "t1 = threading.Thread(target=print_squares)\n",
        "t2 = threading.Thread(target=print_cubes)\n",
        "\n",
        "t1.start()\n",
        "t2.start()\n",
        "\n",
        "t1.join()\n",
        "t2.join()"
      ],
      "metadata": {
        "colab": {
          "base_uri": "https://localhost:8080/"
        },
        "id": "ELCucHkBEfgB",
        "outputId": "97a0d82c-0e94-4d9d-a2f6-8bdbabb54068"
      },
      "execution_count": 1,
      "outputs": [
        {
          "output_type": "stream",
          "name": "stdout",
          "text": [
            "Square of 1: 1\n",
            "Square of 2: 4\n",
            "Square of 3: 9\n",
            "Square of 4: 16\n",
            "Square of 5: 25\n",
            "Square of 6: 36\n",
            "Square of 7: 49\n",
            "Square of 8: 64\n",
            "Square of 9: 81\n",
            "Square of 10: 100\n",
            "Cube of 1: 1\n",
            "Cube of 2: 8\n",
            "Cube of 3: 27\n",
            "Cube of 4: 64\n",
            "Cube of 5: 125\n",
            "Cube of 6: 216\n",
            "Cube of 7: 343\n",
            "Cube of 8: 512\n",
            "Cube of 9: 729\n",
            "Cube of 10: 1000\n"
          ]
        }
      ]
    },
    {
      "cell_type": "markdown",
      "source": [
        "**Q.5) State advantages and disadvantages of multithreading**"
      ],
      "metadata": {
        "id": "efGg35LcDT3D"
      }
    },
    {
      "cell_type": "markdown",
      "source": [
        "Multithreading can provide several advantages and disadvantages depending on the nature of the program and the specific requirements of the application. Here are some of the key advantages and disadvantages of multithreading:\n",
        "\n",
        "Advantages:\n",
        "1. **Improved Performance**: Multithreading can improve the performance of programs by allowing multiple threads to execute concurrently on a single processor. This can lead to faster response times, better throughput, and increased efficiency.\n",
        "\n",
        "2. **Better Resource Utilization**: Multithreading can make better use of system resources by allowing threads to execute concurrently and share resources such as memory and CPU time. This can reduce the amount of wasted resources and improve the overall efficiency of the system.\n",
        "\n",
        "3. **Simpler Program Design**: Multithreading can simplify program design by allowing developers to break complex tasks into smaller, more manageable threads. This can make it easier to develop and maintain complex programs, and can lead to more modular and reusable code.\n",
        "\n",
        "Disadvantages:\n",
        "1. **Increased Complexity**: Multithreading can add complexity to program design, as developers must ensure that threads are synchronized and that shared resources are accessed safely. This can make debugging and testing more difficult, and can increase the risk of errors and bugs.\n",
        "\n",
        "2. **Concurrency Issues**: Multithreading can lead to concurrency issues such as race conditions, deadlocks, and thread starvation. These issues can be difficult to detect and debug, and can lead to unpredictable behavior and performance problems.\n",
        "\n",
        "3. **Compatibility Issues**: Multithreading can be difficult to implement on some platforms and may not be supported by all systems or libraries. This can limit the portability of programs and increase the risk of compatibility issues."
      ],
      "metadata": {
        "id": "RHhJy8OJF78k"
      }
    },
    {
      "cell_type": "markdown",
      "source": [
        "**Q.6) Explain deadlocks and race conditions.**"
      ],
      "metadata": {
        "id": "jRjvE2HSGhfA"
      }
    },
    {
      "cell_type": "markdown",
      "source": [
        "Deadlocks and race conditions are two common concurrency issues that can occur in multithreaded programs.\n",
        "\n",
        "Deadlock: A deadlock is a situation where two or more threads are blocked, waiting for each other to release resources that they need to proceed. In other words, each thread is waiting for a resource that is held by another thread, resulting in a circular waiting pattern that can prevent any of the threads from making progress. Deadlocks can occur when threads are not synchronized properly and can lead to program crashes or hangs.\n",
        "\n",
        "For example, consider two threads, T1 and T2, each of which needs two resources, R1 and R2, to complete its task. If T1 acquires R1 and then waits for R2, while T2 acquires R2 and then waits for R1, a deadlock will occur. Neither thread can proceed, as they are waiting for the other thread to release the resource they need.\n",
        "\n",
        "Race Condition: A race condition occurs when two or more threads access a shared resource or variable concurrently, and the final outcome depends on the order in which the threads execute. In other words, the result of the program is dependent on the relative timing of the threads, and the behavior of the program can be unpredictable. Race conditions can lead to bugs or incorrect behavior in multithreaded programs.\n",
        "\n",
        "For example, consider two threads, T1 and T2, that access a shared variable x. If T1 reads the value of x and increments it, while T2 reads the value of x and decrements it, the final value of x will depend on the order in which the threads execute. If T1 executes first, the value of x will be incremented, and if T2 executes first, the value of x will be decremented. This can lead to incorrect behavior if the program relies on a specific value of x.\n",
        "\n",
        "To prevent deadlocks and race conditions, developers must use synchronization techniques such as locks, semaphores, and monitors to ensure that threads access shared resources safely and in a controlled manner."
      ],
      "metadata": {
        "id": "K9aq3Al2Guoi"
      }
    }
  ]
}