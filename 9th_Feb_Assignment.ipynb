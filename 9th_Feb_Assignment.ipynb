{
  "nbformat": 4,
  "nbformat_minor": 0,
  "metadata": {
    "colab": {
      "provenance": []
    },
    "kernelspec": {
      "name": "python3",
      "display_name": "Python 3"
    },
    "language_info": {
      "name": "python"
    }
  },
  "cells": [
    {
      "cell_type": "markdown",
      "source": [
        "Q1. Create a vehicle class with an init method having instance variables as name_of_vehicle, max_speed\n",
        "and average_of_vehicle."
      ],
      "metadata": {
        "id": "BNlOquheN8Gm"
      }
    },
    {
      "cell_type": "code",
      "source": [
        "class Vehicle:\n",
        "    def __init__(self, name_of_vehicle, max_speed, average_of_vehicle):\n",
        "        self.name_of_vehicle = name_of_vehicle\n",
        "        self.max_speed = max_speed\n",
        "        self.average_of_vehicle = average_of_vehicle\n",
        "\n",
        "car = Vehicle(\"Ford Mustang\", 250, 20)\n",
        "\n",
        "print(car.name_of_vehicle)         \n",
        "print(car.max_speed)             \n",
        "print(car.average_of_vehicle)   "
      ],
      "metadata": {
        "colab": {
          "base_uri": "https://localhost:8080/"
        },
        "id": "gO0RlGwTOF5Y",
        "outputId": "18d9d9c0-3c13-4523-f83a-e126b054aca9"
      },
      "execution_count": 1,
      "outputs": [
        {
          "output_type": "stream",
          "name": "stdout",
          "text": [
            "Ford Mustang\n",
            "250\n",
            "20\n"
          ]
        }
      ]
    },
    {
      "cell_type": "markdown",
      "source": [
        "Q2. Create a child class car from the vehicle class created in Que 1, which will inherit the vehicle class.\n",
        "Create a method named seating_capacity which takes capacity as an argument and returns the name of\n",
        "the vehicle and its seating capacity."
      ],
      "metadata": {
        "id": "SHObUBzVOSjd"
      }
    },
    {
      "cell_type": "code",
      "source": [
        "class Car(Vehicle):\n",
        "    def seating_capacity(self, capacity):\n",
        "        return f\"{self.name_of_vehicle} has a seating capacity of {capacity} passengers.\"\n",
        "\n",
        "car = Car(\"Toyota Camry\", 180, 25)\n",
        "print(car.seating_capacity(5)) "
      ],
      "metadata": {
        "colab": {
          "base_uri": "https://localhost:8080/"
        },
        "id": "xXmSyVmtOX28",
        "outputId": "ad8a48ee-e6ad-4fda-f6d8-69d961c1354e"
      },
      "execution_count": 2,
      "outputs": [
        {
          "output_type": "stream",
          "name": "stdout",
          "text": [
            "Toyota Camry has a seating capacity of 5 passengers.\n"
          ]
        }
      ]
    },
    {
      "cell_type": "markdown",
      "source": [
        "Q3. What is multiple inheritance? Write a python code to demonstrate multiple inheritance."
      ],
      "metadata": {
        "id": "GQrEUvs7OmvZ"
      }
    },
    {
      "cell_type": "markdown",
      "source": [
        "Multiple inheritance is a feature of object-oriented programming languages that allows a class to inherit from multiple parent classes. In Python, a class can inherit from multiple parent classes by including the names of the parent classes in the parentheses after the class name.\n",
        "\n",
        "Here's an example implementation of multiple inheritance in Python:"
      ],
      "metadata": {
        "id": "-wfvLH79OpzQ"
      }
    },
    {
      "cell_type": "code",
      "source": [
        "class Vehicle:\n",
        "    def __init__(self, name_of_vehicle, max_speed):\n",
        "        self.name_of_vehicle = name_of_vehicle\n",
        "        self.max_speed = max_speed\n",
        "\n",
        "class Electric:\n",
        "    def __init__(self, battery_life):\n",
        "        self.battery_life = battery_life\n",
        "\n",
        "class ElectricVehicle(Vehicle, Electric):\n",
        "    def __init__(self, name_of_vehicle, max_speed, battery_life):\n",
        "        Vehicle.__init__(self, name_of_vehicle, max_speed)\n",
        "        Electric.__init__(self, battery_life)\n",
        "\n",
        "    def description(self):\n",
        "        return f\"The {self.name_of_vehicle} has a maximum speed of {self.max_speed} and a battery life of {self.battery_life} hours.\"\n",
        "\n",
        "car = ElectricVehicle(\"Tesla Model S\", 250, 6)\n",
        "print(car.description())       "
      ],
      "metadata": {
        "colab": {
          "base_uri": "https://localhost:8080/"
        },
        "id": "kM-xeyhAO8ga",
        "outputId": "55212d14-05f7-40e0-c76f-fcb816d28ed5"
      },
      "execution_count": 3,
      "outputs": [
        {
          "output_type": "stream",
          "name": "stdout",
          "text": [
            "The Tesla Model S has a maximum speed of 250 and a battery life of 6 hours.\n"
          ]
        }
      ]
    },
    {
      "cell_type": "markdown",
      "source": [
        "In this example, we define a Vehicle class and an Electric class, each with their own __init__ method. We then define a ElectricVehicle class that inherits from both Vehicle and Electric by including their names in the parentheses after the class name. The ElectricVehicle class also defines its own __init__ method that calls the __init__ methods of its parent classes.\n",
        "\n",
        "We then create an instance of the ElectricVehicle class with the name \"Tesla Model S\", maximum speed of 250, and battery life of 6. We can call the description method on this instance to get a description of the vehicle, which includes its name, maximum speed, and battery life."
      ],
      "metadata": {
        "id": "oJKGloSKPCqR"
      }
    },
    {
      "cell_type": "markdown",
      "source": [
        "Q4. What are getter and setter in python? Create a class and create a getter and a setter method in this\n",
        "class."
      ],
      "metadata": {
        "id": "sWCjHl_IPE5U"
      }
    },
    {
      "cell_type": "markdown",
      "source": [
        "In Python, getter and setter methods are used to access and modify the values of instance variables of a class. The getter method returns the value of an instance variable, while the setter method sets a new value for an instance variable.\n",
        "\n",
        "Here's an example implementation of a class with a getter and a setter method:"
      ],
      "metadata": {
        "id": "Ji6cwY81PIRI"
      }
    },
    {
      "cell_type": "code",
      "source": [
        "class Person:\n",
        "    def __init__(self, name):\n",
        "        self._name = name\n",
        "\n",
        "    def get_name(self):\n",
        "        return self._name\n",
        "\n",
        "    def set_name(self, new_name):\n",
        "        self._name = new_name\n",
        "\n",
        "person = Person(\"Rutuja\")\n",
        "print(person.get_name())       \n",
        "\n",
        "person.set_name(\"Jay\")\n",
        "print(person.get_name()) "
      ],
      "metadata": {
        "colab": {
          "base_uri": "https://localhost:8080/"
        },
        "id": "bX7gM09cPhNo",
        "outputId": "476624fe-9cc4-495b-a16c-9b785e7e11bf"
      },
      "execution_count": 5,
      "outputs": [
        {
          "output_type": "stream",
          "name": "stdout",
          "text": [
            "Rutuja\n",
            "Jay\n"
          ]
        }
      ]
    },
    {
      "cell_type": "markdown",
      "source": [
        "Q5.What is method overriding in python? Write a python code to demonstrate method overriding."
      ],
      "metadata": {
        "id": "Ik2HMvqBPng-"
      }
    },
    {
      "cell_type": "markdown",
      "source": [
        "Method overriding is a feature of object-oriented programming languages that allows a subclass to provide its own implementation of a method that is already defined in its superclass. When the method is called on an instance of the subclass, the overridden implementation in the subclass is executed instead of the original implementation in the superclass.\n",
        "\n",
        "Here's an example implementation of method overriding in Python:"
      ],
      "metadata": {
        "id": "nn2-jdOZPuLF"
      }
    },
    {
      "cell_type": "code",
      "source": [
        "class Animal:\n",
        "    def make_sound(self):\n",
        "        print(\"The animal makes a sound.\")\n",
        "\n",
        "class Dog(Animal):\n",
        "    def make_sound(self):\n",
        "        print(\"The dog barks.\")\n",
        "\n",
        "class Cat(Animal):\n",
        "    def make_sound(self):\n",
        "        print(\"The cat meows.\")\n",
        "\n",
        "animal = Animal()\n",
        "dog = Dog()\n",
        "cat = Cat()\n",
        "\n",
        "animal.make_sound()    \n",
        "dog.make_sound()      \n",
        "cat.make_sound()   "
      ],
      "metadata": {
        "colab": {
          "base_uri": "https://localhost:8080/"
        },
        "id": "-epnYYwPP9bL",
        "outputId": "8437926d-246c-4672-ea1c-89e4b09c652f"
      },
      "execution_count": 6,
      "outputs": [
        {
          "output_type": "stream",
          "name": "stdout",
          "text": [
            "The animal makes a sound.\n",
            "The dog barks.\n",
            "The cat meows.\n"
          ]
        }
      ]
    }
  ]
}