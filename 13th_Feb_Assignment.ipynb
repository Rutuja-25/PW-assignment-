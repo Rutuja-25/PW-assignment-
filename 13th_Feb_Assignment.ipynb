{
  "nbformat": 4,
  "nbformat_minor": 0,
  "metadata": {
    "colab": {
      "provenance": []
    },
    "kernelspec": {
      "name": "python3",
      "display_name": "Python 3"
    },
    "language_info": {
      "name": "python"
    }
  },
  "cells": [
    {
      "cell_type": "markdown",
      "source": [
        "**Q1. Explain why we have to use the Exception class while creating a Custom Exception.\n",
        "Note: Here Exception class refers to the base class for all the exceptions.**"
      ],
      "metadata": {
        "id": "Lnz1nlge_XiG"
      }
    },
    {
      "cell_type": "markdown",
      "source": [
        "When creating a custom exception in Python, it is generally recommended to inherit from the Exception class or one of its subclasses, such as ValueError` or TypeError. Here are some reasons why:\n",
        "\n",
        "1. Inheriting from Exception ensures that your custom exception class has all the necessary functionality and behavior of an exception in Python.\n",
        "\n",
        "2. Inheriting from Exception also provides a consistent and standard interface for handling exceptions. This means that other developers who use your code will know how to catch and handle your custom exception in the same way as they would any other exception in Python.\n",
        "\n",
        "3. By using Exception as the base class for your custom exception, you can take advantage of the built-in features of the exception handling system in Python. \n",
        "\n",
        "4. Inheriting from Exception also makes it easier to distinguish your custom exception from other types of exceptions that might be raised in your code."
      ],
      "metadata": {
        "id": "wYe7_eDH_a7M"
      }
    },
    {
      "cell_type": "markdown",
      "source": [
        "**Q2. Write a python program to print Python Exception Hierarchy.**"
      ],
      "metadata": {
        "id": "Yls_ltv_AKp-"
      }
    },
    {
      "cell_type": "code",
      "source": [
        "def treeClass(cls, ind = 0):\n",
        "\t\n",
        "\t# print name of the class\n",
        "\tprint (' ' * ind, cls.__name__)\n",
        "\t\n",
        "\t# iterating through subclasses\n",
        "\tfor i in cls.__subclasses__():\n",
        "\t\ttreeClass(i, ind + 3)\n",
        "# function call\n",
        "treeClass(Exception)"
      ],
      "metadata": {
        "colab": {
          "base_uri": "https://localhost:8080/"
        },
        "id": "EJa58ZAzAnCT",
        "outputId": "db0134ba-2de5-4657-b877-9a8f73198d22"
      },
      "execution_count": 1,
      "outputs": [
        {
          "output_type": "stream",
          "name": "stdout",
          "text": [
            " Exception\n",
            "    TypeError\n",
            "       MultipartConversionError\n",
            "       FloatOperation\n",
            "       UFuncTypeError\n",
            "          UFuncTypeError\n",
            "          UFuncTypeError\n",
            "          UFuncTypeError\n",
            "             UFuncTypeError\n",
            "             UFuncTypeError\n",
            "       ConversionError\n",
            "    StopAsyncIteration\n",
            "    StopIteration\n",
            "    ImportError\n",
            "       ModuleNotFoundError\n",
            "          PackageNotFoundError\n",
            "       ZipImportError\n",
            "    OSError\n",
            "       ConnectionError\n",
            "          BrokenPipeError\n",
            "          ConnectionAbortedError\n",
            "          ConnectionRefusedError\n",
            "          ConnectionResetError\n",
            "             RemoteDisconnected\n",
            "       BlockingIOError\n",
            "       ChildProcessError\n",
            "       FileExistsError\n",
            "       FileNotFoundError\n",
            "          ExecutableNotFoundError\n",
            "       IsADirectoryError\n",
            "       NotADirectoryError\n",
            "       InterruptedError\n",
            "          InterruptedSystemCall\n",
            "       PermissionError\n",
            "       ProcessLookupError\n",
            "       TimeoutError\n",
            "       UnsupportedOperation\n",
            "       itimer_error\n",
            "       Error\n",
            "          SameFileError\n",
            "       SpecialFileError\n",
            "       ExecError\n",
            "       ReadError\n",
            "       herror\n",
            "       gaierror\n",
            "       SSLError\n",
            "          SSLCertVerificationError\n",
            "          SSLZeroReturnError\n",
            "          SSLWantWriteError\n",
            "          SSLWantReadError\n",
            "          SSLSyscallError\n",
            "          SSLEOFError\n",
            "       URLError\n",
            "          HTTPError\n",
            "          ContentTooShortError\n",
            "       BadGzipFile\n",
            "       ProxyError\n",
            "          GeneralProxyError\n",
            "          ProxyConnectionError\n",
            "          SOCKS5AuthError\n",
            "          SOCKS5Error\n",
            "          SOCKS4Error\n",
            "          HTTPError\n",
            "       UnidentifiedImageError\n",
            "    EOFError\n",
            "       IncompleteReadError\n",
            "    RuntimeError\n",
            "       RecursionError\n",
            "       NotImplementedError\n",
            "          StdinNotImplementedError\n",
            "          ZMQVersionError\n",
            "       _DeadlockError\n",
            "       BrokenBarrierError\n",
            "       BrokenExecutor\n",
            "          BrokenThreadPool\n",
            "       SendfileNotAvailableError\n",
            "       RemovedCommandError\n",
            "       PackageDiscoveryError\n",
            "       TooHardError\n",
            "       ExtractionError\n",
            "       VariableError\n",
            "    NameError\n",
            "       UnboundLocalError\n",
            "    AttributeError\n",
            "       FrozenInstanceError\n",
            "    SyntaxError\n",
            "       IndentationError\n",
            "          TabError\n",
            "       ParseError\n",
            "    LookupError\n",
            "       IndexError\n",
            "          AxisError\n",
            "          OutOfBounds\n",
            "       KeyError\n",
            "          UnknownBackend\n",
            "          NoSuchKernel\n",
            "       CodecRegistryError\n",
            "    ValueError\n",
            "       UnicodeError\n",
            "          UnicodeEncodeError\n",
            "          UnicodeDecodeError\n",
            "          UnicodeTranslateError\n",
            "       UnsupportedOperation\n",
            "       JSONDecodeError\n",
            "       UnsupportedDigestmodError\n",
            "       Error\n",
            "       ClassNotFound\n",
            "       SSLCertVerificationError\n",
            "       ClipboardEmpty\n",
            "       MessageDefect\n",
            "          NoBoundaryInMultipartDefect\n",
            "          StartBoundaryNotFoundDefect\n",
            "          CloseBoundaryNotFoundDefect\n",
            "          FirstHeaderLineIsContinuationDefect\n",
            "          MisplacedEnvelopeHeaderDefect\n",
            "          MissingHeaderBodySeparatorDefect\n",
            "          MultipartInvariantViolationDefect\n",
            "          InvalidMultipartContentTransferEncodingDefect\n",
            "          UndecodableBytesDefect\n",
            "          InvalidBase64PaddingDefect\n",
            "          InvalidBase64CharactersDefect\n",
            "          InvalidBase64LengthDefect\n",
            "          HeaderDefect\n",
            "             InvalidHeaderDefect\n",
            "             HeaderMissingRequiredValue\n",
            "             NonPrintableDefect\n",
            "             ObsoleteHeaderDefect\n",
            "             NonASCIILocalPartDefect\n",
            "             InvalidDateDefect\n",
            "       IllegalMonthError\n",
            "       IllegalWeekdayError\n",
            "       MacroToEdit\n",
            "       ParserError\n",
            "       UnequalIterablesError\n",
            "       ELFInvalid\n",
            "       InvalidVersion\n",
            "       InvalidWheelFilename\n",
            "       InvalidSdistFilename\n",
            "       InvalidSpecifier\n",
            "       InvalidMarker\n",
            "       UndefinedComparison\n",
            "       UndefinedEnvironmentName\n",
            "       InvalidRequirement\n",
            "       DisabledFunctionError\n",
            "       AxisError\n",
            "       InvalidVersion\n",
            "       DefusedXmlException\n",
            "          DTDForbidden\n",
            "          EntitiesForbidden\n",
            "          ExternalReferenceForbidden\n",
            "          NotSupportedError\n",
            "       NonIntersectingPathException\n",
            "       InvalidFileException\n",
            "       UnequalIterablesError\n",
            "       InvalidVersion\n",
            "       ELFInvalid\n",
            "       InvalidWheelFilename\n",
            "       InvalidSdistFilename\n",
            "       InvalidSpecifier\n",
            "       InvalidMarker\n",
            "       UndefinedComparison\n",
            "       UndefinedEnvironmentName\n",
            "       InvalidRequirement\n",
            "          RequirementParseError\n",
            "    AssertionError\n",
            "    ArithmeticError\n",
            "       FloatingPointError\n",
            "       OverflowError\n",
            "       ZeroDivisionError\n",
            "          DivisionByZero\n",
            "          DivisionUndefined\n",
            "       DecimalException\n",
            "          Clamped\n",
            "          Rounded\n",
            "             Underflow\n",
            "             Overflow\n",
            "          Inexact\n",
            "             Underflow\n",
            "             Overflow\n",
            "          Subnormal\n",
            "             Underflow\n",
            "          DivisionByZero\n",
            "          FloatOperation\n",
            "          InvalidOperation\n",
            "             ConversionSyntax\n",
            "             DivisionImpossible\n",
            "             DivisionUndefined\n",
            "             InvalidContext\n",
            "    SystemError\n",
            "       CodecRegistryError\n",
            "    ReferenceError\n",
            "    MemoryError\n",
            "       MemoryError\n",
            "    BufferError\n",
            "    Warning\n",
            "       UserWarning\n",
            "          GetPassWarning\n",
            "          FormatterWarning\n",
            "          SetuptoolsWarning\n",
            "             InformationOnly\n",
            "             SetuptoolsDeprecationWarning\n",
            "                _AmbiguousMarker\n",
            "                _DeprecatedConfig\n",
            "                _WouldIgnoreField\n",
            "                DistDeprecationWarning\n",
            "             _BetaConfiguration\n",
            "             _InvalidFile\n",
            "          VisibleDeprecationWarning\n",
            "          RankWarning\n",
            "          ConversionWarning\n",
            "          RankWarning\n",
            "       EncodingWarning\n",
            "       DeprecationWarning\n",
            "          ProvisionalWarning\n",
            "          ModuleDeprecationWarning\n",
            "          MatplotlibDeprecationWarning\n",
            "       PendingDeprecationWarning\n",
            "       SyntaxWarning\n",
            "       RuntimeWarning\n",
            "          ProactorSelectorThreadWarning\n",
            "          UnknownTimezoneWarning\n",
            "          ComplexWarning\n",
            "          DecompressionBombWarning\n",
            "          PEP440Warning\n",
            "       FutureWarning\n",
            "          ProvisionalCompleterWarning\n",
            "          MaskedArrayFutureWarning\n",
            "       ImportWarning\n",
            "       UnicodeWarning\n",
            "       BytesWarning\n",
            "       ResourceWarning\n",
            "       DeprecatedTzFormatWarning\n",
            "       MathTextWarning\n",
            "       PkgResourcesDeprecationWarning\n",
            "    _OptionError\n",
            "    error\n",
            "    Verbose\n",
            "    Error\n",
            "    _Error\n",
            "    SubprocessError\n",
            "       CalledProcessError\n",
            "       TimeoutExpired\n",
            "    Error\n",
            "    TokenError\n",
            "    StopTokenizing\n",
            "    error\n",
            "    LZMAError\n",
            "    RegistryError\n",
            "    _GiveupOnFastCopy\n",
            "    ClassFoundException\n",
            "    EndOfBlock\n",
            "    TraitError\n",
            "    _GiveupOnSendfile\n",
            "    error\n",
            "    PickleError\n",
            "       PicklingError\n",
            "       UnpicklingError\n",
            "    _Stop\n",
            "    Empty\n",
            "    Full\n",
            "    ArgumentError\n",
            "    ArgumentTypeError\n",
            "    ConfigError\n",
            "       ConfigLoaderError\n",
            "          ArgumentError\n",
            "       ConfigFileNotFound\n",
            "    ConfigurableError\n",
            "       MultipleInstanceError\n",
            "    ApplicationError\n",
            "    ErrorDuringImport\n",
            "    BdbQuit\n",
            "    Restart\n",
            "    ExceptionPexpect\n",
            "       EOF\n",
            "       TIMEOUT\n",
            "    error\n",
            "    PtyProcessError\n",
            "    FindCmdError\n",
            "    HomeDirError\n",
            "    ProfileDirError\n",
            "    IPythonCoreError\n",
            "       TryNext\n",
            "       UsageError\n",
            "       StdinNotImplementedError\n",
            "    InputRejected\n",
            "    GetoptError\n",
            "    Incomplete\n",
            "    OptionError\n",
            "    ErrorToken\n",
            "    PrefilterError\n",
            "    AliasError\n",
            "       InvalidAliasError\n",
            "    Error\n",
            "       InterfaceError\n",
            "       DatabaseError\n",
            "          InternalError\n",
            "          OperationalError\n",
            "          ProgrammingError\n",
            "          IntegrityError\n",
            "          DataError\n",
            "          NotSupportedError\n",
            "    Warning\n",
            "    Error\n",
            "       CancelledError\n",
            "       TimeoutError\n",
            "       InvalidStateError\n",
            "    TimeoutError\n",
            "    InvalidStateError\n",
            "    LimitOverrunError\n",
            "    QueueEmpty\n",
            "    QueueFull\n",
            "    SpaceInInput\n",
            "    DOMException\n",
            "       IndexSizeErr\n",
            "       DomstringSizeErr\n",
            "       HierarchyRequestErr\n",
            "       WrongDocumentErr\n",
            "       InvalidCharacterErr\n",
            "       NoDataAllowedErr\n",
            "       NoModificationAllowedErr\n",
            "       NotFoundErr\n",
            "       NotSupportedErr\n",
            "       InuseAttributeErr\n",
            "       InvalidStateErr\n",
            "       SyntaxErr\n",
            "       InvalidModificationErr\n",
            "       NamespaceErr\n",
            "       InvalidAccessErr\n",
            "       ValidationErr\n",
            "    ValidationError\n",
            "    EditReadOnlyBuffer\n",
            "    _Retry\n",
            "    InvalidLayoutError\n",
            "    HeightIsUnknownError\n",
            "    MessageError\n",
            "       MessageParseError\n",
            "          HeaderParseError\n",
            "             _InvalidEwError\n",
            "          BoundaryError\n",
            "       MultipartConversionError\n",
            "       CharsetError\n",
            "    Error\n",
            "    HTTPException\n",
            "       NotConnected\n",
            "       InvalidURL\n",
            "       UnknownProtocol\n",
            "       UnknownTransferEncoding\n",
            "       UnimplementedFileMode\n",
            "       IncompleteRead\n",
            "       ImproperConnectionState\n",
            "          CannotSendRequest\n",
            "          CannotSendHeader\n",
            "          ResponseNotReady\n",
            "       BadStatusLine\n",
            "          RemoteDisconnected\n",
            "       LineTooLong\n",
            "    InteractivelyDefined\n",
            "    KillEmbedded\n",
            "    ArgumentError\n",
            "    ZMQBaseError\n",
            "       ZMQError\n",
            "          ContextTerminated\n",
            "          Again\n",
            "          InterruptedSystemCall\n",
            "       ZMQBindError\n",
            "       NotDone\n",
            "    NoIPAddresses\n",
            "    Error\n",
            "       NoSectionError\n",
            "       DuplicateSectionError\n",
            "       DuplicateOptionError\n",
            "       NoOptionError\n",
            "       InterpolationError\n",
            "          InterpolationMissingOptionError\n",
            "          InterpolationSyntaxError\n",
            "          InterpolationDepthError\n",
            "       ParsingError\n",
            "          MissingSectionHeaderError\n",
            "    InvalidPortNumber\n",
            "    DuplicateKernelError\n",
            "    error\n",
            "    ReturnValueIgnoredError\n",
            "    KeyReuseError\n",
            "    UnknownKeyError\n",
            "    LeakedCallbackError\n",
            "    BadYieldError\n",
            "    ReturnValueIgnoredError\n",
            "    Return\n",
            "    QueueEmpty\n",
            "    QueueFull\n",
            "    DistutilsError\n",
            "       DistutilsModuleError\n",
            "       DistutilsClassError\n",
            "       DistutilsGetoptError\n",
            "       DistutilsArgError\n",
            "       DistutilsFileError\n",
            "       DistutilsOptionError\n",
            "       DistutilsSetupError\n",
            "       DistutilsPlatformError\n",
            "       DistutilsExecError\n",
            "       DistutilsInternalError\n",
            "       DistutilsTemplateError\n",
            "       DistutilsByteCompileError\n",
            "       RemovedCommandError\n",
            "       PackageDiscoveryError\n",
            "    CCompilerError\n",
            "       PreprocessError\n",
            "       CompileError\n",
            "       LibError\n",
            "       LinkError\n",
            "       UnknownFileError\n",
            "    BadZipFile\n",
            "    LargeZipFile\n",
            "    Error\n",
            "    ParserSyntaxError\n",
            "    Error\n",
            "       AuthorizationError\n",
            "       RuntimeManagementError\n",
            "       MessageError\n",
            "    WidgetException\n",
            "    JsException\n",
            "    FormattedTracebackError\n",
            "    Error\n",
            "       NoSuchProcess\n",
            "          ZombieProcess\n",
            "       AccessDenied\n",
            "       TimeoutExpired\n",
            "    _Ipv6UnsupportedError\n",
            "    ParseBaseException\n",
            "       ParseException\n",
            "       ParseFatalException\n",
            "          ParseSyntaxException\n",
            "    RecursiveGrammarException\n",
            "    HttpLib2Error\n",
            "       HttpLib2ErrorWithResponse\n",
            "          RedirectMissingLocation\n",
            "          RedirectLimit\n",
            "          FailedToDecompressContent\n",
            "          UnimplementedDigestAuthOptionError\n",
            "          UnimplementedHmacDigestAuthOptionError\n",
            "       MalformedHeader\n",
            "       RelativeURIError\n",
            "       ServerNotFoundError\n",
            "       ProxiesUnavailableError\n",
            "    LinAlgError\n",
            "    ConverterError\n",
            "       ConverterLockError\n",
            "    MAError\n",
            "       MaskError\n",
            "    ExpatError\n",
            "    DecompressionBombError\n",
            "    FFIError\n",
            "    CDefError\n",
            "    VerificationError\n",
            "    VerificationMissing\n",
            "    PkgConfigError\n",
            "    DuplicateConstraint\n",
            "    UnsatisfiableConstraint\n",
            "    UnknownConstraint\n",
            "    DuplicateEditVariable\n",
            "    UnknownEditVariable\n",
            "    BadRequiredStrength\n",
            "    NonGuiException\n",
            "    InvalidIndexError\n",
            "    TerminateTrajectory\n",
            "    NoFreePortFoundError\n",
            "    DebuggerInitializationError\n",
            "    Error\n",
            "       ProtocolError\n",
            "       ResponseError\n",
            "       Fault\n",
            "    ParserSyntaxError\n",
            "    ResolutionError\n",
            "       VersionConflict\n",
            "          ContextualVersionConflict\n",
            "       DistributionNotFound\n",
            "       UnknownExtra\n",
            "    _Error\n",
            "    UnableToResolveVariableException\n",
            "    InvalidTypeInArgsException\n"
          ]
        }
      ]
    },
    {
      "cell_type": "markdown",
      "source": [
        "**Q3. What errors are defined in the ArithmeticError class? Explain any two with an example.**"
      ],
      "metadata": {
        "id": "WJRmneGTAQgz"
      }
    },
    {
      "cell_type": "code",
      "source": [
        "ArithmeticError.__subclasses__()"
      ],
      "metadata": {
        "colab": {
          "base_uri": "https://localhost:8080/"
        },
        "id": "3W6Mm5UXBA_A",
        "outputId": "754534b5-090d-4127-fcdf-37e000dcb5f5"
      },
      "execution_count": 2,
      "outputs": [
        {
          "output_type": "execute_result",
          "data": {
            "text/plain": [
              "[FloatingPointError,\n",
              " OverflowError,\n",
              " ZeroDivisionError,\n",
              " decimal.DecimalException]"
            ]
          },
          "metadata": {},
          "execution_count": 2
        }
      ]
    },
    {
      "cell_type": "code",
      "source": [
        "# ZeroDivisionError: This error occurs when you try to divide a number by zero. For example, consider the following code snippet:\n",
        "\n",
        "\n",
        "x = 10\n",
        "y = 0\n",
        "z = x / y"
      ],
      "metadata": {
        "colab": {
          "base_uri": "https://localhost:8080/",
          "height": 200
        },
        "id": "3v70GWu0A-RI",
        "outputId": "03761d73-880f-4d95-d80b-b1ff76216b8c"
      },
      "execution_count": 3,
      "outputs": [
        {
          "output_type": "error",
          "ename": "ZeroDivisionError",
          "evalue": "ignored",
          "traceback": [
            "\u001b[0;31m---------------------------------------------------------------------------\u001b[0m",
            "\u001b[0;31mZeroDivisionError\u001b[0m                         Traceback (most recent call last)",
            "\u001b[0;32m<ipython-input-3-cedddfea8f45>\u001b[0m in \u001b[0;36m<cell line: 6>\u001b[0;34m()\u001b[0m\n\u001b[1;32m      4\u001b[0m \u001b[0mx\u001b[0m \u001b[0;34m=\u001b[0m \u001b[0;36m10\u001b[0m\u001b[0;34m\u001b[0m\u001b[0;34m\u001b[0m\u001b[0m\n\u001b[1;32m      5\u001b[0m \u001b[0my\u001b[0m \u001b[0;34m=\u001b[0m \u001b[0;36m0\u001b[0m\u001b[0;34m\u001b[0m\u001b[0;34m\u001b[0m\u001b[0m\n\u001b[0;32m----> 6\u001b[0;31m \u001b[0mz\u001b[0m \u001b[0;34m=\u001b[0m \u001b[0mx\u001b[0m \u001b[0;34m/\u001b[0m \u001b[0my\u001b[0m\u001b[0;34m\u001b[0m\u001b[0;34m\u001b[0m\u001b[0m\n\u001b[0m",
            "\u001b[0;31mZeroDivisionError\u001b[0m: division by zero"
          ]
        }
      ]
    },
    {
      "cell_type": "code",
      "source": [
        "# OverflowError: This error occurs when a calculation produces a result that is too large or too small to be represented by the available memory or data type. For example, consider the following code snippet:\n",
        "\n",
        "import math\n",
        "x = math.exp(1000)"
      ],
      "metadata": {
        "colab": {
          "base_uri": "https://localhost:8080/",
          "height": 200
        },
        "id": "b2WlMo7hBehD",
        "outputId": "cf036485-47b5-4aca-ecbc-82a722c9427d"
      },
      "execution_count": 4,
      "outputs": [
        {
          "output_type": "error",
          "ename": "OverflowError",
          "evalue": "ignored",
          "traceback": [
            "\u001b[0;31m---------------------------------------------------------------------------\u001b[0m",
            "\u001b[0;31mOverflowError\u001b[0m                             Traceback (most recent call last)",
            "\u001b[0;32m<ipython-input-4-278a8cce2d88>\u001b[0m in \u001b[0;36m<cell line: 4>\u001b[0;34m()\u001b[0m\n\u001b[1;32m      2\u001b[0m \u001b[0;34m\u001b[0m\u001b[0m\n\u001b[1;32m      3\u001b[0m \u001b[0;32mimport\u001b[0m \u001b[0mmath\u001b[0m\u001b[0;34m\u001b[0m\u001b[0;34m\u001b[0m\u001b[0m\n\u001b[0;32m----> 4\u001b[0;31m \u001b[0mx\u001b[0m \u001b[0;34m=\u001b[0m \u001b[0mmath\u001b[0m\u001b[0;34m.\u001b[0m\u001b[0mexp\u001b[0m\u001b[0;34m(\u001b[0m\u001b[0;36m1000\u001b[0m\u001b[0;34m)\u001b[0m\u001b[0;34m\u001b[0m\u001b[0;34m\u001b[0m\u001b[0m\n\u001b[0m",
            "\u001b[0;31mOverflowError\u001b[0m: math range error"
          ]
        }
      ]
    },
    {
      "cell_type": "markdown",
      "source": [
        "**Q4. Why LookupError class is used? Explain with an example KeyError and IndexError.**"
      ],
      "metadata": {
        "id": "oG0LbL5eB36L"
      }
    },
    {
      "cell_type": "markdown",
      "source": [
        "The LookupError class is a base class for exceptions that occur when a key or index is not found in a collection or mapping. This class is subclassed by more specific exception classes that represent different types of lookup errors."
      ],
      "metadata": {
        "id": "TXOXOrNSB3yv"
      }
    },
    {
      "cell_type": "code",
      "source": [
        "my_dict = {\"a\": 1, \"b\": 2, \"c\": 3}\n",
        "\n",
        "try:\n",
        "    value = my_dict[\"d\"]\n",
        "except KeyError:\n",
        "    print(\"Key not found in dictionary.\")"
      ],
      "metadata": {
        "colab": {
          "base_uri": "https://localhost:8080/"
        },
        "id": "idWciXVVCF0s",
        "outputId": "b7a84cc4-3100-4e88-f955-c4b75bd56bc4"
      },
      "execution_count": 5,
      "outputs": [
        {
          "output_type": "stream",
          "name": "stdout",
          "text": [
            "Key not found in dictionary.\n"
          ]
        }
      ]
    },
    {
      "cell_type": "code",
      "source": [
        "my_list = [1, 2, 3]\n",
        "\n",
        "try:\n",
        "    value = my_list[3]\n",
        "except IndexError:\n",
        "    print(\"Index out of range.\")"
      ],
      "metadata": {
        "colab": {
          "base_uri": "https://localhost:8080/"
        },
        "id": "K_RmUvQACGVF",
        "outputId": "ab9f91ef-c64f-45c3-f377-aca76794552b"
      },
      "execution_count": 6,
      "outputs": [
        {
          "output_type": "stream",
          "name": "stdout",
          "text": [
            "Index out of range.\n"
          ]
        }
      ]
    },
    {
      "cell_type": "markdown",
      "source": [
        "**Q5. Explain ImportError. What is ModuleNotFoundError?**"
      ],
      "metadata": {
        "id": "qf7lyvqvCLZ1"
      }
    },
    {
      "cell_type": "markdown",
      "source": [
        "ImportError is a built-in Python exception class that is raised when an import statement fails to import a module. This can happen for a variety of reasons, such as a missing or misspelled module name, a circular import, or an error in the module's code. ModuleNotFoundError exception is a subclass of ImportError and is raised when a module is not found during an import statement"
      ],
      "metadata": {
        "id": "dXtHD0OyCUox"
      }
    },
    {
      "cell_type": "code",
      "source": [
        "try:\n",
        "    import xyx\n",
        "except ModuleNotFoundError as e:\n",
        "    print(e)"
      ],
      "metadata": {
        "colab": {
          "base_uri": "https://localhost:8080/"
        },
        "id": "tfg76XTJCTJ2",
        "outputId": "672421d8-7308-4e68-dbeb-f975d8eba7c9"
      },
      "execution_count": 7,
      "outputs": [
        {
          "output_type": "stream",
          "name": "stdout",
          "text": [
            "No module named 'xyx'\n"
          ]
        }
      ]
    },
    {
      "cell_type": "markdown",
      "source": [
        "**Q6. List down some best practices for exception handling in python.**"
      ],
      "metadata": {
        "id": "PfyUfDFKChRJ"
      }
    },
    {
      "cell_type": "markdown",
      "source": [
        "Here are some best practices for exception handling in Python:\n",
        "1. Use the most specific exception classes possible\n",
        "2. Handle exceptions gracefully\n",
        "3. Don't ignore exceptions\n",
        "4. Use the finally block for cleanup\n",
        "5. Don't use exceptions for control flow\n",
        "6. Use context managers\n",
        "7. Be careful with catching"
      ],
      "metadata": {
        "id": "OdX7QFjcC7r6"
      }
    }
  ]
}