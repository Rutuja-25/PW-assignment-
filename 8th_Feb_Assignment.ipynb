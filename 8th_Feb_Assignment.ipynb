{
  "nbformat": 4,
  "nbformat_minor": 0,
  "metadata": {
    "colab": {
      "provenance": []
    },
    "kernelspec": {
      "name": "python3",
      "display_name": "Python 3"
    },
    "language_info": {
      "name": "python"
    }
  },
  "cells": [
    {
      "cell_type": "markdown",
      "source": [
        "Q1. What is Abstraction in OOps? Explain with an example."
      ],
      "metadata": {
        "id": "ncAmJz9oguTc"
      }
    },
    {
      "cell_type": "markdown",
      "source": [
        "Abstraction in object-oriented programming (OOP) is the process of hiding implementation details and providing a simpler and more general interface for users to interact with. It allows developers to focus on the essential features of an object or a system, without worrying about the underlying complexities of its implementation.\n",
        "\n",
        "An example of abstraction could be a class that represents a car. From a user's perspective, they only need to know how to drive the car, turn it on and off, and steer it. They do not need to know how the engine, transmission, or brakes work. These details are hidden from the user, and they only interact with the car through a simpler interface, such as a steering wheel, pedals, and switches.\n",
        "\n",
        "In this example, the car class provides an abstraction of a real car, hiding its implementation details and exposing only the essential features for users to interact with. By using abstraction, the car class can be used by many different users without requiring them to have specialized knowledge of how the car works. This makes the code more modular, easier to understand, and less prone to errors."
      ],
      "metadata": {
        "id": "YKyP8zeGgvhl"
      }
    },
    {
      "cell_type": "markdown",
      "source": [
        "Q2. Differentiate between Abstraction and Encapsulation. Explain with an example."
      ],
      "metadata": {
        "id": "z1yksDlUgyBT"
      }
    },
    {
      "cell_type": "markdown",
      "source": [
        "Abstraction and encapsulation are both concepts in object-oriented programming, but they serve different purposes.\n",
        "\n",
        "Abstraction is the process of hiding implementation details from users and focusing on essential features. It is achieved through the use of abstract classes and interfaces.\n",
        "\n",
        "Encapsulation, on the other hand, is the process of restricting access to data and methods within a class. This is done by using access modifiers like private, protected, and public.\n",
        "\n",
        "Here's a simplified example to illustrate the difference between abstraction and encapsulation:\n",
        "\n",
        "Suppose we have a class called BankAccount that has the following attributes: account_number, balance, and interest_rate. The class also has methods to deposit and withdraw money from the account.\n",
        "\n",
        "Abstraction comes into play when we use an abstract class or interface to define the BankAccount class. By doing this, we are hiding the implementation details of the class and focusing on its essential features, such as the ability to deposit and withdraw money.\n",
        "\n",
        "Encapsulation, on the other hand, is achieved by making the account_number attribute private. This means that it can only be accessed within the BankAccount class, and not by any other class. By doing this, we are restricting access to the data within the class and ensuring that it can only be modified using the appropriate methods, such as the deposit and withdraw methods.\n",
        "\n",
        "In summary, abstraction is about hiding implementation details, while encapsulation is about restricting access to data and methods within a class."
      ],
      "metadata": {
        "id": "DbY9EYQeiVYo"
      }
    },
    {
      "cell_type": "code",
      "source": [
        "class BankAccount:\n",
        "    def __init__(self, name, account_number):\n",
        "        self._name = name\n",
        "        self._account_number = account_number\n",
        "        self._balance = 0.0\n",
        "\n",
        "    def deposit(self, amount):\n",
        "        self._balance += amount\n",
        "\n",
        "    def withdraw(self, amount):\n",
        "        if amount <= self._balance:\n",
        "            self._balance -= amount\n",
        "        else:\n",
        "            print(\"Insufficient funds\")\n",
        "\n",
        "    def get_balance(self):\n",
        "        return self._balance"
      ],
      "metadata": {
        "id": "SxaI6HegjIzR"
      },
      "execution_count": 3,
      "outputs": []
    },
    {
      "cell_type": "markdown",
      "source": [
        "Q3. What is abc module in python? Why is it used?"
      ],
      "metadata": {
        "id": "ARphGU31iWJi"
      }
    },
    {
      "cell_type": "markdown",
      "source": [
        "The abc module in Python stands for Abstract Base Classes. It provides a way to define abstract classes and interfaces, which are classes that cannot be instantiated and may contain abstract methods that must be implemented by subclasses.\n",
        "\n",
        "The abc module is used to implement the concept of abstraction in Python. Abstraction is an important concept in object-oriented programming that allows programmers to focus on essential features and hide implementation details. By using abstract classes and interfaces, programmers can define a high-level interface for their classes and let the subclasses handle the implementation details."
      ],
      "metadata": {
        "id": "2hPxPDoGik5V"
      }
    },
    {
      "cell_type": "code",
      "source": [
        "from abc import ABC, abstractmethod\n",
        "\n",
        "class Animal(ABC):\n",
        "    @abstractmethod\n",
        "    def speak(self):\n",
        "        pass\n",
        "\n",
        "class Dog(Animal):\n",
        "    def speak(self):\n",
        "        return \"Woof!\"\n",
        "\n",
        "class Cat(Animal):\n",
        "    def speak(self):\n",
        "        return \"Meow!\"\n"
      ],
      "metadata": {
        "id": "OIGPEMjgiuor"
      },
      "execution_count": 1,
      "outputs": []
    },
    {
      "cell_type": "markdown",
      "source": [
        "In this example, we define an abstract class called Animal that has one abstract method called speak. We then define two subclasses of Animal, Dog and Cat, and implement the speak method for each subclass. By using the abc module, we ensure that any subclass of Animal must implement the speak method, which helps us achieve abstraction and ensure a consistent interface for our classes."
      ],
      "metadata": {
        "id": "ojKyBJuzi1Ir"
      }
    },
    {
      "cell_type": "markdown",
      "source": [
        "Q4. How can we achieve data abstraction?"
      ],
      "metadata": {
        "id": "vzLEAs7DjhXK"
      }
    },
    {
      "cell_type": "markdown",
      "source": [
        "In Python, we can achieve data abstraction using classes and objects. Data abstraction is the process of hiding the implementation details of an object and exposing only the essential features or interfaces to the user. This helps to reduce complexity, improve modularity, and enhance security in our programs."
      ],
      "metadata": {
        "id": "bHXT4DxBjlq-"
      }
    },
    {
      "cell_type": "markdown",
      "source": [
        "Q5. Can we create an instance of an abstract class? Explain your answer."
      ],
      "metadata": {
        "id": "TDTKrLJhjxnz"
      }
    },
    {
      "cell_type": "markdown",
      "source": [
        " In Python, you cannot create an instance of an abstract class because it is not fully defined. An abstract class is a class that has one or more abstract methods, which are methods that are declared but do not have an implementation. An abstract class is intended to be subclassed and its abstract methods implemented by the subclasses.\n",
        "\n",
        "Since an abstract class is not fully defined and it is not intended to be instantiated on its own, Python prevents you from creating an instance of an abstract class. When you try to create an instance of an abstract class, you will get a TypeError with the message \"Can't instantiate abstract class with abstract methods \"."
      ],
      "metadata": {
        "id": "v03dCy3_j0rm"
      }
    }
  ]
}