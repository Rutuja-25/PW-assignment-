{
  "nbformat": 4,
  "nbformat_minor": 0,
  "metadata": {
    "colab": {
      "provenance": []
    },
    "kernelspec": {
      "name": "python3",
      "display_name": "Python 3"
    },
    "language_info": {
      "name": "python"
    }
  },
  "cells": [
    {
      "cell_type": "markdown",
      "source": [
        "Q1. Explain Class and Object with respect to Object-Oriented Programming. Give a suitable example."
      ],
      "metadata": {
        "id": "Xy1nbLG-vYxx"
      }
    },
    {
      "cell_type": "markdown",
      "source": [
        "A Class is a blueprint or template for creating objects. It defines the attributes and behaviors that an object of the class will have. For example, a class called \"Person\" might have attributes such as name, age, and address, and behaviors like speaking, walking, and breathing.\n",
        "\n",
        "An Object, on the other hand, is an instance of a class. It is a real-world entity that has the attributes and behaviors defined by its class. For example, a person named John Doe with the age of 30 and living at 123 Main Street is an instance or object of the \"Person\" class.\n",
        "\n",
        "Here's a simple example in Python:"
      ],
      "metadata": {
        "id": "9ojuG2A-vjHT"
      }
    },
    {
      "cell_type": "code",
      "source": [
        "class Person:\n",
        "  def __init__(self, name, age):\n",
        "    self.name = name\n",
        "    self.age = age\n",
        "\n",
        "  def speak(self):\n",
        "    print(\"Hello, my name is\", self.name)\n",
        "\n",
        "p1 = Person(\"John Doe\", 30)\n",
        "p2 = Person(\"Jane Doe\", 25)\n",
        "\n",
        "print(p1.name) # prints \"John Doe\"\n",
        "p2.speak() # prints \"Hello, my name is John Doe\""
      ],
      "metadata": {
        "colab": {
          "base_uri": "https://localhost:8080/"
        },
        "id": "8AkVoQ8kv0Sp",
        "outputId": "13140a9d-5fd0-4bb0-9d81-cd1c994cf4b5"
      },
      "execution_count": 2,
      "outputs": [
        {
          "output_type": "stream",
          "name": "stdout",
          "text": [
            "John Doe\n",
            "Hello, my name is Jane Doe\n"
          ]
        }
      ]
    },
    {
      "cell_type": "markdown",
      "source": [
        "Q2. Name the four pillars of OOPs."
      ],
      "metadata": {
        "id": "v2H9XqCswENo"
      }
    },
    {
      "cell_type": "markdown",
      "source": [
        "The four pillars of Object-Oriented Programming (OOP) are:\n",
        "\n",
        "Abstraction: This principle is about hiding the implementation details of an object and exposing only the necessary information to the outside world. It allows the user to focus on the object's behavior and not worry about how it works internally.\n",
        "\n",
        "Encapsulation: This principle is about wrapping data and behavior within an object and preventing unauthorized access to that data. It promotes data security and integrity.\n",
        "\n",
        "Inheritance: This principle is about creating new classes based on existing classes, inheriting their attributes and behaviors. It allows for code reuse and promotes easy maintenance of code.\n",
        "\n",
        "Polymorphism: This principle is about the ability of objects of different classes to respond to the same method call. It allows for creating a uniform interface for objects of different types and promotes code reuse."
      ],
      "metadata": {
        "id": "nRbQjIdZwHtP"
      }
    },
    {
      "cell_type": "markdown",
      "source": [
        "Q3. Explain why the __init__() function is used. Give a suitable example."
      ],
      "metadata": {
        "id": "N2L5q_Mvwrqi"
      }
    },
    {
      "cell_type": "markdown",
      "source": [
        "The __init__() function is a special method in Python that is automatically called when an object of a class is created. It is used to initialize the attributes of the object when it is first created. The __init__() method takes the newly created object as its first argument, and it is often referred to as the \"constructor\" of the class.\n",
        "\n",
        "Here's a simple example in Python:"
      ],
      "metadata": {
        "id": "923_2nc3w6wy"
      }
    },
    {
      "cell_type": "code",
      "source": [
        "class Person:\n",
        "  def __init__(self, name, age):\n",
        "    self.name = name\n",
        "    self.age = age\n",
        "\n",
        "p = Person(\"John Doe\", 30)\n",
        "print(p.name) # prints \"John Doe\"\n",
        "print(p.age) # prints 30"
      ],
      "metadata": {
        "colab": {
          "base_uri": "https://localhost:8080/"
        },
        "id": "gaJhmswWw78o",
        "outputId": "7f30b2e1-edbb-4e85-a409-c2901afb6137"
      },
      "execution_count": 3,
      "outputs": [
        {
          "output_type": "stream",
          "name": "stdout",
          "text": [
            "John Doe\n",
            "30\n"
          ]
        }
      ]
    },
    {
      "cell_type": "markdown",
      "source": [
        "Q4. Why self is used in OOPs?"
      ],
      "metadata": {
        "id": "Y9IuH-ZRxEbs"
      }
    },
    {
      "cell_type": "markdown",
      "source": [
        "In Object-Oriented Programming (OOP), self is a special variable that is used to refer to the instance of the object being worked with. When you define a method in a class, the first argument is always self, and it is used to refer to the instance of the object that the method is being called on."
      ],
      "metadata": {
        "id": "ThbqKbZI0nZl"
      }
    },
    {
      "cell_type": "markdown",
      "source": [
        "Q5. What is inheritance? Give an example for each type of inheritance."
      ],
      "metadata": {
        "id": "BJ3DNZqn0qyJ"
      }
    },
    {
      "cell_type": "markdown",
      "source": [
        "Inheritance is a concept in object-oriented programming (OOP) that allows a new class to be derived from an existing class. The new class is called the derived class or the subclass, and the existing class is called the base class or the superclass. The derived class inherits the attributes and behaviors of the base class and can add or override them as needed.\n",
        "\n",
        "There are several types of inheritance in OOP, including:\n",
        "\n",
        "Single inheritance: Single inheritance is the simplest form of inheritance, where a derived class inherits from a single base class. For example, consider a base class \"Animal\" and a derived class \"Dog\". The \"Dog\" class would inherit all the attributes and behaviors of the \"Animal\" class, such as the ability to breathe and move.\n",
        "\n",
        "Multiple inheritance: Multiple inheritance is a form of inheritance where a derived class inherits from multiple base classes. For example, consider two base classes \"Animal\" and \"Vehicle\", and a derived class \"FlyingDog\". The \"FlyingDog\" class would inherit the attributes and behaviors of both the \"Animal\" and \"Vehicle\" classes, such as the ability to breathe, move, and fly.\n",
        "\n",
        "Multi-level inheritance: Multi-level inheritance is a form of inheritance where a derived class inherits from a derived class, which in turn inherits from a base class. For example, consider a base class \"Animal\", a derived class \"Bird\", and another derived class \"Eagle\". The \"Eagle\" class would inherit the attributes and behaviors of both the \"Animal\" and \"Bird\" classes, such as the ability to breathe, move, and fly.\n",
        "\n",
        "Hierarchical inheritance: Hierarchical inheritance is a form of inheritance where multiple derived classes inherit from a single base class. For example, consider a base class \"Animal\" and derived classes \"Bird\", \"Fish\", and \"Reptile\". Each of the derived classes would inherit the attributes and behaviors of the \"Animal\" class, such as the ability to breathe and move, but would also add unique attributes and behaviors specific to their class.\n",
        "\n",
        "Hybrid inheritance: Hybrid inheritance is a combination of two or more types of inheritance, such as single inheritance and multiple inheritance. For example, consider a base class \"Animal\", a derived class \"Bird\", and another derived class \"FlyingFish\". The \"FlyingFish\" class would inherit the attributes and behaviors of both the \"Animal\" and \"Bird\" classes, such as the ability to breathe, move, and fly."
      ],
      "metadata": {
        "id": "v_g0ZGnU0z3V"
      }
    }
  ]
}